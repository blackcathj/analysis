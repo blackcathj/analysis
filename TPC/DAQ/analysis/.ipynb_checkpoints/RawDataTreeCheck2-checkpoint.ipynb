{
 "cells": [
  {
   "cell_type": "code",
   "execution_count": 1,
   "id": "ad304f65-77a3-4b62-abee-d87624fa264c",
   "metadata": {},
   "outputs": [
    {
     "data": {
      "text/html": [
       "        <script type=\"text/javascript\">\n",
       "        window.PlotlyConfig = {MathJaxConfig: 'local'};\n",
       "        if (window.MathJax && window.MathJax.Hub && window.MathJax.Hub.Config) {window.MathJax.Hub.Config({SVG: {font: \"STIX-Web\"}});}\n",
       "        if (typeof require !== 'undefined') {\n",
       "        require.undef(\"plotly\");\n",
       "        requirejs.config({\n",
       "            paths: {\n",
       "                'plotly': ['https://cdn.plot.ly/plotly-2.16.1.min']\n",
       "            }\n",
       "        });\n",
       "        require(['plotly'], function(Plotly) {\n",
       "            window._Plotly = Plotly;\n",
       "        });\n",
       "        }\n",
       "        </script>\n",
       "        "
      ]
     },
     "metadata": {},
     "output_type": "display_data"
    },
    {
     "name": "stdout",
     "output_type": "stream",
     "text": [
      "Welcome to JupyROOT 6.26/06\n",
      "Python: 3.10.8\n"
     ]
    }
   ],
   "source": [
    "# imports to write dynamic markdown contents\n",
    "import os\n",
    "from IPython.display import display, Markdown, Latex\n",
    "from IPython.display import HTML\n",
    "\n",
    "import pandas as pd\n",
    "from collections import OrderedDict\n",
    "\n",
    "import pprint\n",
    "import re\n",
    "import numpy as np\n",
    "import matplotlib.pyplot as plt\n",
    "import random\n",
    "\n",
    "import plotly.graph_objs as go\n",
    "from plotly.offline import init_notebook_mode, iplot\n",
    "import plotly.express as px\n",
    "init_notebook_mode(connected=True)  \n",
    "import glob\n",
    "import uproot \n",
    "import ROOT\n",
    "\n",
    "import platform\n",
    "print('Python:', platform.python_version())"
   ]
  },
  {
   "cell_type": "code",
   "execution_count": 2,
   "id": "ed0848b8-f5a1-45de-915f-cc6fdd710e7f",
   "metadata": {},
   "outputs": [
    {
     "name": "stdout",
     "output_type": "stream",
     "text": [
      "['/phenix/u/jinhuang/links/sPHENIX_work/TPC/commissioning/TPC_ebdc00_beam-00010684-0000.prdf.root',\n",
      " '/phenix/u/jinhuang/links/sPHENIX_work/TPC/commissioning/TPC_ebdc01_beam-00010684-0000.prdf.root',\n",
      " '/phenix/u/jinhuang/links/sPHENIX_work/TPC/commissioning/TPC_ebdc02_beam-00010684-0000.prdf.root',\n",
      " '/phenix/u/jinhuang/links/sPHENIX_work/TPC/commissioning/TPC_ebdc03_beam-00010684-0000.prdf.root',\n",
      " '/phenix/u/jinhuang/links/sPHENIX_work/TPC/commissioning/TPC_ebdc04_beam-00010684-0000.prdf.root',\n",
      " '/phenix/u/jinhuang/links/sPHENIX_work/TPC/commissioning/TPC_ebdc05_beam-00010684-0000.prdf.root',\n",
      " '/phenix/u/jinhuang/links/sPHENIX_work/TPC/commissioning/TPC_ebdc06_beam-00010684-0000.prdf.root',\n",
      " '/phenix/u/jinhuang/links/sPHENIX_work/TPC/commissioning/TPC_ebdc07_beam-00010684-0000.prdf.root',\n",
      " '/phenix/u/jinhuang/links/sPHENIX_work/TPC/commissioning/TPC_ebdc08_beam-00010684-0000.prdf.root',\n",
      " '/phenix/u/jinhuang/links/sPHENIX_work/TPC/commissioning/TPC_ebdc09_beam-00010684-0000.prdf.root',\n",
      " '/phenix/u/jinhuang/links/sPHENIX_work/TPC/commissioning/TPC_ebdc10_beam-00010684-0000.prdf.root',\n",
      " '/phenix/u/jinhuang/links/sPHENIX_work/TPC/commissioning/TPC_ebdc11_beam-00010684-0000.prdf.root',\n",
      " '/phenix/u/jinhuang/links/sPHENIX_work/TPC/commissioning/TPC_ebdc12_beam-00010684-0000.prdf.root',\n",
      " '/phenix/u/jinhuang/links/sPHENIX_work/TPC/commissioning/TPC_ebdc13_beam-00010684-0000.prdf.root',\n",
      " '/phenix/u/jinhuang/links/sPHENIX_work/TPC/commissioning/TPC_ebdc14_beam-00010684-0000.prdf.root',\n",
      " '/phenix/u/jinhuang/links/sPHENIX_work/TPC/commissioning/TPC_ebdc15_beam-00010684-0000.prdf.root',\n",
      " '/phenix/u/jinhuang/links/sPHENIX_work/TPC/commissioning/TPC_ebdc16_beam-00010684-0000.prdf.root',\n",
      " '/phenix/u/jinhuang/links/sPHENIX_work/TPC/commissioning/TPC_ebdc17_beam-00010684-0000.prdf.root',\n",
      " '/phenix/u/jinhuang/links/sPHENIX_work/TPC/commissioning/TPC_ebdc18_beam-00010684-0000.prdf.root',\n",
      " '/phenix/u/jinhuang/links/sPHENIX_work/TPC/commissioning/TPC_ebdc19_beam-00010684-0000.prdf.root',\n",
      " '/phenix/u/jinhuang/links/sPHENIX_work/TPC/commissioning/TPC_ebdc20_beam-00010684-0000.prdf.root',\n",
      " '/phenix/u/jinhuang/links/sPHENIX_work/TPC/commissioning/TPC_ebdc21_beam-00010684-0000.prdf.root',\n",
      " '/phenix/u/jinhuang/links/sPHENIX_work/TPC/commissioning/TPC_ebdc22_beam-00010684-0000.prdf.root',\n",
      " '/phenix/u/jinhuang/links/sPHENIX_work/TPC/commissioning/TPC_ebdc23_beam-00010684-0000.prdf.root']\n"
     ]
    }
   ],
   "source": [
    "# run = 10645\n",
    "# run = 10647\n",
    "# run = 10648\n",
    "#  filenames = glob.glob(f\"/phenix/u/jinhuang/links/sPHENIX_work/TPC/commissioning/TPC_ebdc*_pedestal-*{run}-0000.prdf.root\")\n",
    "\n",
    "# run = 10661\n",
    "# filenames = glob.glob(f\"/phenix/u/jinhuang/links/sPHENIX_work/TPC/commissioning/TPC_ebdc*_pedestal-*{run}-0000.prdf_1.root\")\n",
    "\n",
    "run = 10684\n",
    "filenames = glob.glob(f\"/phenix/u/jinhuang/links/sPHENIX_work/TPC/commissioning/TPC_ebdc*_beam-*{run}-0000.prdf.root\")\n",
    "\n",
    "filenames.sort()\n",
    "pprint.pprint(filenames)"
   ]
  },
  {
   "cell_type": "code",
   "execution_count": 3,
   "id": "28924f94-74ee-453c-962f-9be67f5fb010",
   "metadata": {},
   "outputs": [
    {
     "name": "stdout",
     "output_type": "stream",
     "text": [
      "{'00': <cppyy.gbl.TFile object at 0x7a3b280>,\n",
      " '01': <cppyy.gbl.TFile object at 0x60eb7d0>,\n",
      " '02': <cppyy.gbl.TFile object at 0x7d08d10>,\n",
      " '03': <cppyy.gbl.TFile object at 0x7cb2eb0>,\n",
      " '04': <cppyy.gbl.TFile object at 0x7cb5080>,\n",
      " '05': <cppyy.gbl.TFile object at 0x7dacf70>,\n",
      " '06': <cppyy.gbl.TFile object at 0x7d65740>,\n",
      " '07': <cppyy.gbl.TFile object at 0x7cc3270>,\n",
      " '08': <cppyy.gbl.TFile object at 0x7ddc1c0>,\n",
      " '09': <cppyy.gbl.TFile object at 0x7ddec00>,\n",
      " '10': <cppyy.gbl.TFile object at 0x7de1960>,\n",
      " '11': <cppyy.gbl.TFile object at 0x7de3510>,\n",
      " '12': <cppyy.gbl.TFile object at 0x7e2b3a0>,\n",
      " '13': <cppyy.gbl.TFile object at 0x7e2e0b0>,\n",
      " '14': <cppyy.gbl.TFile object at 0x7e30dd0>,\n",
      " '15': <cppyy.gbl.TFile object at 0x7e43b30>,\n",
      " '16': <cppyy.gbl.TFile object at 0x7e46820>,\n",
      " '17': <cppyy.gbl.TFile object at 0x7e49390>,\n",
      " '18': <cppyy.gbl.TFile object at 0x7e4c290>,\n",
      " '19': <cppyy.gbl.TFile object at 0x7e4ee60>,\n",
      " '20': <cppyy.gbl.TFile object at 0x7e4fc90>,\n",
      " '21': <cppyy.gbl.TFile object at 0x7e64950>,\n",
      " '22': <cppyy.gbl.TFile object at 0x7e67a60>,\n",
      " '23': <cppyy.gbl.TFile object at 0x7e6a6f0>}\n"
     ]
    }
   ],
   "source": [
    "files = dict()\n",
    "for filename in filenames: \n",
    "    file = ROOT.TFile.Open(filename)\n",
    "    sector = re.match(\".*ebdc([0-9][0-9])_.*\", filename).group(1)\n",
    "    files[sector] = file\n",
    "\n",
    "\n",
    "pprint.pprint(files);"
   ]
  },
  {
   "cell_type": "code",
   "execution_count": 4,
   "id": "48deded2-823f-426c-9206-550bb46ad94c",
   "metadata": {},
   "outputs": [
    {
     "name": "stdout",
     "output_type": "stream",
     "text": [
      "TFile**\t\t/phenix/u/jinhuang/links/sPHENIX_work/TPC/commissioning/TPC_ebdc02_beam-00010684-0000.prdf.root\t\n",
      " TFile*\t\t/phenix/u/jinhuang/links/sPHENIX_work/TPC/commissioning/TPC_ebdc02_beam-00010684-0000.prdf.root\t\n",
      "  KEY: TTree\tSampleTree;13\tEach entry is one waveform [current cycle]\n",
      "  KEY: TTree\tSampleTree;12\tEach entry is one waveform [backup cycle]\n",
      "  KEY: TTree\tPacketTree;1\tEach entry is one packet\n",
      "  KEY: TTree\tTaggerTree;1\tEach entry is one tagger for level 1 trigger or endat tag\n",
      "======> EVENT:0\n",
      " packet          = 4020\n",
      " frame           = 2\n",
      " nWaveormInFrame = 663\n",
      " nTaggerInFrame  = 2\n",
      " maxFEECount     = 26\n",
      "======> EVENT:0\n",
      " packet          = 4020\n",
      " frame           = 2\n",
      " nWaveormInFrame = 663\n",
      " maxFEECount     = 26\n",
      " nSamples        = 360\n",
      " adcSamples      = 75, \n",
      "                  78, 68, 70, 74, 72, 72, 75, 72, 70, 70, \n",
      "                  76, 73, 72, 70, 70, 82, 70, 71, 74\n",
      " fee             = 22\n",
      " sampaAddress    = 6\n",
      " sampaChannel    = 17\n",
      " Channel         = 209\n",
      " BCO             = 845915\n",
      " checksum        = 64824\n",
      " checksumError   = 0\n",
      "======> EVENT:0\n",
      " packet          = 4020\n",
      " frame           = 2\n",
      " tagger_type     = 48113\n",
      " is_endat        = 1\n",
      " is_lvl1         = 0\n",
      " bco             = 45112918156\n",
      " lvl1_count      = 2099253\n",
      " endat_count     = 2080688\n",
      " last_bco        = 45112448154\n",
      " modebits        = 0\n"
     ]
    }
   ],
   "source": [
    "files['02'].ls()\n",
    "files['02'].PacketTree.Show(0)\n",
    "files['02'].SampleTree.Show(0)\n",
    "files['02'].TaggerTree.Show(0)"
   ]
  },
  {
   "cell_type": "code",
   "execution_count": 5,
   "id": "e19d3300-ef41-40aa-a559-dbbad2ca2f2f",
   "metadata": {},
   "outputs": [],
   "source": [
    "%%cpp -d\n",
    "\n",
    "#include<sPhenixStyle.C>"
   ]
  },
  {
   "cell_type": "code",
   "execution_count": 6,
   "id": "66a9adc6-474d-407d-b852-5f0c439079e5",
   "metadata": {},
   "outputs": [
    {
     "name": "stdout",
     "output_type": "stream",
     "text": [
      "sPhenixStyle: Applying nominal settings.\n",
      "sPhenixStyle: ROOT6 mode\n"
     ]
    }
   ],
   "source": [
    "%%cpp\n",
    "\n",
    "SetsPhenixStyle()"
   ]
  },
  {
   "cell_type": "code",
   "execution_count": 7,
   "id": "0f56342c-96f9-4eb5-893b-9f9400cffe19",
   "metadata": {},
   "outputs": [],
   "source": [
    "%jsroot on"
   ]
  },
  {
   "cell_type": "code",
   "execution_count": null,
   "id": "ad043c1e-491a-4628-ba55-9d83bf1f105b",
   "metadata": {},
   "outputs": [],
   "source": []
  },
  {
   "cell_type": "code",
   "execution_count": null,
   "id": "ebf93d16-0042-4d42-9716-26c0d7f4cd8d",
   "metadata": {},
   "outputs": [],
   "source": [
    "c1 = ROOT.TCanvas( 'checksumErrorQA', 'checksumErrorQA', 1000, 1200)\n",
    "\n",
    "c1.Divide(4,6)\n",
    "\n",
    "i = 1\n",
    "for sector, file in files.items():\n",
    "    \n",
    "    c1.cd(i)\n",
    "    i=i+1\n",
    "    \n",
    "    hAllWaveForm = ROOT.TH1F(f'hAllWaveForm{sector}', ';fee*8+sampaAddress [0..207]', 26*8, -.5, 26*8 -.5);\n",
    "    hErrorWaveForm = ROOT.TH1F(f'hErrorWaveForm{sector}', f';Sector{sector}: fee*8+sampaAddress [0..207];Probability of CheckSum Error', 26*8, -.5, 26*8 -.5);\n",
    "\n",
    "    files[sector].SampleTree.Draw(f\"fee*8+sampaAddress >> hAllWaveForm{sector}\",\"\",\"goff\");\n",
    "    files[sector].SampleTree.Draw(f\"fee*8+sampaAddress >> hErrorWaveForm{sector}\",\"checksumError>0\",\"goff\");\n",
    "    \n",
    "    hErrorWaveForm.Divide (hErrorWaveForm, hAllWaveForm, 1, 1, 'B');\n",
    "    hErrorWaveForm.DrawClone();\n",
    "\n",
    "c1.Draw()"
   ]
  },
  {
   "cell_type": "code",
   "execution_count": null,
   "id": "54d0133f-ca54-4420-9cb8-94d9ed6f0336",
   "metadata": {},
   "outputs": [],
   "source": [
    "\n",
    "c1 = ROOT.TCanvas( 'ADCQA', 'ADCQA', 1000, 1200)\n",
    "\n",
    "c1.Divide(4,6)\n",
    "\n",
    "i = 1\n",
    "for sector, file in files.items():\n",
    "    \n",
    "\n",
    "    pad = c1.cd(i)\n",
    "    i=i+1\n",
    "\n",
    "    pad.SetLogz()\n",
    "    \n",
    "    hADC = ROOT.TH2F(f'hADC{sector}', f';Sector{sector}: ADC Time bin [1/20MHz]; ADC [ADU]', 360, 0, 360, 256,0,1024);\n",
    "\n",
    "    files[sector].SampleTree.Draw(f\"adcSamples:Iteration$>>hADC{sector}\",\"checksumError==0 && (adcSamples - adcSamples[0])>30 \",\"colz\");\n",
    "    \n",
    "    hADC.DrawClone(\"colz\");\n",
    "    \n",
    "c1.Draw()"
   ]
  },
  {
   "cell_type": "code",
   "execution_count": null,
   "id": "ba0d2e9f-8652-4ba9-a071-d47cd17604ab",
   "metadata": {},
   "outputs": [],
   "source": []
  }
 ],
 "metadata": {
  "kernelspec": {
   "display_name": "Python (sPHENIX)",
   "language": "python",
   "name": "sphenix-env"
  },
  "language_info": {
   "codemirror_mode": {
    "name": "ipython",
    "version": 3
   },
   "file_extension": ".py",
   "mimetype": "text/x-python",
   "name": "python",
   "nbconvert_exporter": "python",
   "pygments_lexer": "ipython3",
   "version": "3.10.8"
  }
 },
 "nbformat": 4,
 "nbformat_minor": 5
}
