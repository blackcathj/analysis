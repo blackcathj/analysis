{
 "cells": [
  {
   "cell_type": "code",
   "execution_count": 1,
   "id": "ad304f65-77a3-4b62-abee-d87624fa264c",
   "metadata": {},
   "outputs": [
    {
     "data": {
      "text/html": [
       "        <script type=\"text/javascript\">\n",
       "        window.PlotlyConfig = {MathJaxConfig: 'local'};\n",
       "        if (window.MathJax && window.MathJax.Hub && window.MathJax.Hub.Config) {window.MathJax.Hub.Config({SVG: {font: \"STIX-Web\"}});}\n",
       "        if (typeof require !== 'undefined') {\n",
       "        require.undef(\"plotly\");\n",
       "        requirejs.config({\n",
       "            paths: {\n",
       "                'plotly': ['https://cdn.plot.ly/plotly-2.16.1.min']\n",
       "            }\n",
       "        });\n",
       "        require(['plotly'], function(Plotly) {\n",
       "            window._Plotly = Plotly;\n",
       "        });\n",
       "        }\n",
       "        </script>\n",
       "        "
      ]
     },
     "metadata": {},
     "output_type": "display_data"
    },
    {
     "name": "stdout",
     "output_type": "stream",
     "text": [
      "Welcome to JupyROOT 6.26/06\n",
      "Python: 3.10.8\n"
     ]
    }
   ],
   "source": [
    "# imports to write dynamic markdown contents\n",
    "import os\n",
    "from IPython.display import display, Markdown, Latex\n",
    "from IPython.display import HTML\n",
    "\n",
    "import pandas as pd\n",
    "from collections import OrderedDict\n",
    "\n",
    "import pprint\n",
    "import re\n",
    "import numpy as np\n",
    "import matplotlib.pyplot as plt\n",
    "import random\n",
    "\n",
    "import plotly.graph_objs as go\n",
    "from plotly.offline import init_notebook_mode, iplot\n",
    "import plotly.express as px\n",
    "init_notebook_mode(connected=True)  \n",
    "import glob\n",
    "import uproot \n",
    "import ROOT\n",
    "\n",
    "import platform\n",
    "print('Python:', platform.python_version())"
   ]
  },
  {
   "cell_type": "code",
   "execution_count": 2,
   "id": "ed0848b8-f5a1-45de-915f-cc6fdd710e7f",
   "metadata": {},
   "outputs": [
    {
     "name": "stdout",
     "output_type": "stream",
     "text": [
      "['/phenix/u/jinhuang/links/sPHENIX_work/TPC/commissioning/TPC_ebdc00_beam-00010674-0000.prdf.root',\n",
      " '/phenix/u/jinhuang/links/sPHENIX_work/TPC/commissioning/TPC_ebdc01_beam-00010674-0000.prdf.root',\n",
      " '/phenix/u/jinhuang/links/sPHENIX_work/TPC/commissioning/TPC_ebdc02_beam-00010674-0000.prdf.root',\n",
      " '/phenix/u/jinhuang/links/sPHENIX_work/TPC/commissioning/TPC_ebdc03_beam-00010674-0000.prdf.root',\n",
      " '/phenix/u/jinhuang/links/sPHENIX_work/TPC/commissioning/TPC_ebdc04_beam-00010674-0000.prdf.root',\n",
      " '/phenix/u/jinhuang/links/sPHENIX_work/TPC/commissioning/TPC_ebdc05_beam-00010674-0000.prdf.root',\n",
      " '/phenix/u/jinhuang/links/sPHENIX_work/TPC/commissioning/TPC_ebdc06_beam-00010674-0000.prdf.root',\n",
      " '/phenix/u/jinhuang/links/sPHENIX_work/TPC/commissioning/TPC_ebdc07_beam-00010674-0000.prdf.root',\n",
      " '/phenix/u/jinhuang/links/sPHENIX_work/TPC/commissioning/TPC_ebdc08_beam-00010674-0000.prdf.root',\n",
      " '/phenix/u/jinhuang/links/sPHENIX_work/TPC/commissioning/TPC_ebdc09_beam-00010674-0000.prdf.root',\n",
      " '/phenix/u/jinhuang/links/sPHENIX_work/TPC/commissioning/TPC_ebdc10_beam-00010674-0000.prdf.root',\n",
      " '/phenix/u/jinhuang/links/sPHENIX_work/TPC/commissioning/TPC_ebdc11_beam-00010674-0000.prdf.root',\n",
      " '/phenix/u/jinhuang/links/sPHENIX_work/TPC/commissioning/TPC_ebdc12_beam-00010674-0000.prdf.root',\n",
      " '/phenix/u/jinhuang/links/sPHENIX_work/TPC/commissioning/TPC_ebdc13_beam-00010674-0000.prdf.root',\n",
      " '/phenix/u/jinhuang/links/sPHENIX_work/TPC/commissioning/TPC_ebdc14_beam-00010674-0000.prdf.root',\n",
      " '/phenix/u/jinhuang/links/sPHENIX_work/TPC/commissioning/TPC_ebdc15_beam-00010674-0000.prdf.root',\n",
      " '/phenix/u/jinhuang/links/sPHENIX_work/TPC/commissioning/TPC_ebdc16_beam-00010674-0000.prdf.root',\n",
      " '/phenix/u/jinhuang/links/sPHENIX_work/TPC/commissioning/TPC_ebdc17_beam-00010674-0000.prdf.root',\n",
      " '/phenix/u/jinhuang/links/sPHENIX_work/TPC/commissioning/TPC_ebdc18_beam-00010674-0000.prdf.root',\n",
      " '/phenix/u/jinhuang/links/sPHENIX_work/TPC/commissioning/TPC_ebdc19_beam-00010674-0000.prdf.root',\n",
      " '/phenix/u/jinhuang/links/sPHENIX_work/TPC/commissioning/TPC_ebdc20_beam-00010674-0000.prdf.root',\n",
      " '/phenix/u/jinhuang/links/sPHENIX_work/TPC/commissioning/TPC_ebdc21_beam-00010674-0000.prdf.root',\n",
      " '/phenix/u/jinhuang/links/sPHENIX_work/TPC/commissioning/TPC_ebdc22_beam-00010674-0000.prdf.root',\n",
      " '/phenix/u/jinhuang/links/sPHENIX_work/TPC/commissioning/TPC_ebdc23_beam-00010674-0000.prdf.root']\n"
     ]
    }
   ],
   "source": [
    "# run = 10645\n",
    "# run = 10647\n",
    "# run = 10648\n",
    "#  filenames = glob.glob(f\"/phenix/u/jinhuang/links/sPHENIX_work/TPC/commissioning/TPC_ebdc*_pedestal-*{run}-0000.prdf.root\")\n",
    "\n",
    "# run = 10661\n",
    "# filenames = glob.glob(f\"/phenix/u/jinhuang/links/sPHENIX_work/TPC/commissioning/TPC_ebdc*_pedestal-*{run}-0000.prdf.root\")\n",
    "\n",
    "# run = 10674\n",
    "# filenames = glob.glob(f\"/phenix/u/jinhuang/links/sPHENIX_work/TPC/commissioning/TPC_ebdc*_beam-*{run}-0000.prdf.root\")\n",
    "\n",
    "run = 11046\n",
    "filenames = glob.glob(f\"/sphenix/user/rosstom/test/testFiles/TPC_ebdc*_beam-*{run}-0000.prdf.root\")\n",
    "\n",
    "filenames.sort()\n",
    "pprint.pprint(filenames)"
   ]
  },
  {
   "cell_type": "code",
   "execution_count": 3,
   "id": "28924f94-74ee-453c-962f-9be67f5fb010",
   "metadata": {},
   "outputs": [
    {
     "name": "stdout",
     "output_type": "stream",
     "text": [
      "{'00': <cppyy.gbl.TFile object at 0x9350fc0>,\n",
      " '01': <cppyy.gbl.TFile object at 0x942f970>,\n",
      " '02': <cppyy.gbl.TFile object at 0x9636c60>,\n",
      " '03': <cppyy.gbl.TFile object at 0x9638530>,\n",
      " '04': <cppyy.gbl.TFile object at 0x96f8eb0>,\n",
      " '05': <cppyy.gbl.TFile object at 0x9719910>,\n",
      " '06': <cppyy.gbl.TFile object at 0x9630c50>,\n",
      " '07': <cppyy.gbl.TFile object at 0x96337b0>,\n",
      " '08': <cppyy.gbl.TFile object at 0x9740aa0>,\n",
      " '09': <cppyy.gbl.TFile object at 0x9743610>,\n",
      " '10': <cppyy.gbl.TFile object at 0x9751170>,\n",
      " '11': <cppyy.gbl.TFile object at 0x9754070>,\n",
      " '12': <cppyy.gbl.TFile object at 0x9756ac0>,\n",
      " '13': <cppyy.gbl.TFile object at 0x9758300>,\n",
      " '14': <cppyy.gbl.TFile object at 0x979ff00>,\n",
      " '15': <cppyy.gbl.TFile object at 0x97a2a70>,\n",
      " '16': <cppyy.gbl.TFile object at 0x97a55e0>,\n",
      " '17': <cppyy.gbl.TFile object at 0x97b8210>,\n",
      " '18': <cppyy.gbl.TFile object at 0x97bad30>,\n",
      " '19': <cppyy.gbl.TFile object at 0x97bd870>,\n",
      " '20': <cppyy.gbl.TFile object at 0x97c03d0>,\n",
      " '21': <cppyy.gbl.TFile object at 0x97c2ee0>,\n",
      " '22': <cppyy.gbl.TFile object at 0x97d6040>,\n",
      " '23': <cppyy.gbl.TFile object at 0x97d8980>}\n"
     ]
    }
   ],
   "source": [
    "files = dict()\n",
    "for filename in filenames: \n",
    "    file = ROOT.TFile.Open(filename)\n",
    "    sector = re.match(\".*ebdc([0-9][0-9])_.*\", filename).group(1)\n",
    "    files[sector] = file\n",
    "\n",
    "\n",
    "pprint.pprint(files);"
   ]
  },
  {
   "cell_type": "code",
   "execution_count": 4,
   "id": "48deded2-823f-426c-9206-550bb46ad94c",
   "metadata": {},
   "outputs": [
    {
     "name": "stdout",
     "output_type": "stream",
     "text": [
      "TFile**\t\t/phenix/u/jinhuang/links/sPHENIX_work/TPC/commissioning/TPC_ebdc14_beam-00010674-0000.prdf.root\t\n",
      " TFile*\t\t/phenix/u/jinhuang/links/sPHENIX_work/TPC/commissioning/TPC_ebdc14_beam-00010674-0000.prdf.root\t\n",
      "  KEY: TTree\tPacketTree;1\tEach entry is one packet\n",
      "  KEY: TTree\tSampleTree;1\tEach entry is one waveform\n",
      "  KEY: TTree\tTaggerTree;1\tEach entry is one tagger for level 1 trigger or endat tag\n",
      "======> EVENT:0\n",
      " packet          = 4140\n",
      " frame           = 2\n",
      " nWaveormInFrame = 754\n",
      " nTaggerInFrame  = 1\n",
      " maxFEECount     = 26\n",
      "======> EVENT:0\n",
      " packet          = 4140\n",
      " frame           = 2\n",
      " nWaveormInFrame = 754\n",
      " maxFEECount     = 26\n",
      " nSamples        = 360\n",
      " adcSamples      = 73, \n",
      "                  71, 72, 75, 67, 71, 67, 70, 70, 73, 72, \n",
      "                  73, 72, 74, 70, 66, 71, 70, 75, 70\n",
      " fee             = 16\n",
      " sampaAddress    = 0\n",
      " sampaChannel    = 2\n",
      " Channel         = 2\n",
      " BCO             = 56662\n",
      " checksum        = 19308\n",
      " checksumError   = 1\n",
      "======> EVENT:0\n",
      " packet          = 4140\n",
      " frame           = 2\n",
      " tagger_type     = 48112\n",
      " is_endat        = 0\n",
      " is_lvl1         = 1\n",
      " bco             = 591829430782\n",
      " lvl1_count      = 820121\n",
      " endat_count     = 812436\n",
      " last_bco        = 523936327056\n",
      " modebits        = 0\n"
     ]
    }
   ],
   "source": [
    "files['03'].ls()\n",
    "files['03'].PacketTree.Show(0)\n",
    "files['03'].SampleTree.Show(0)\n",
    "files['03'].TaggerTree.Show(0)"
   ]
  },
  {
   "cell_type": "code",
   "execution_count": 5,
   "id": "e19d3300-ef41-40aa-a559-dbbad2ca2f2f",
   "metadata": {},
   "outputs": [],
   "source": [
    "%%cpp -d\n",
    "\n",
    "#include<sPhenixStyle.C>"
   ]
  },
  {
   "cell_type": "code",
   "execution_count": 6,
   "id": "66a9adc6-474d-407d-b852-5f0c439079e5",
   "metadata": {},
   "outputs": [
    {
     "name": "stdout",
     "output_type": "stream",
     "text": [
      "sPhenixStyle: Applying nominal settings.\n",
      "sPhenixStyle: ROOT6 mode\n"
     ]
    }
   ],
   "source": [
    "%%cpp\n",
    "\n",
    "SetsPhenixStyle()"
   ]
  },
  {
   "cell_type": "code",
   "execution_count": 7,
   "id": "0f56342c-96f9-4eb5-893b-9f9400cffe19",
   "metadata": {},
   "outputs": [],
   "source": [
    "%jsroot on"
   ]
  },
  {
   "cell_type": "code",
   "execution_count": null,
   "id": "ad043c1e-491a-4628-ba55-9d83bf1f105b",
   "metadata": {},
   "outputs": [],
   "source": []
  },
  {
   "cell_type": "code",
   "execution_count": 8,
   "id": "54d0133f-ca54-4420-9cb8-94d9ed6f0336",
   "metadata": {},
   "outputs": [
    {
     "data": {
      "text/html": [
       "\n",
       "\n",
       "<div id=\"root_plot_1685386911020\"\n",
       "     style=\"width: 496px; height: 472px\">\n",
       "</div>\n",
       "<script>\n",
       "\n",
       "function display_root_plot_1685386911020(Core) {\n",
       "   let obj = Core.parse({\"_typename\":\"TCanvas\",\"fUniqueID\":0,\"fBits\":3342344,\"fLineColor\":1,\"fLineStyle\":1,\"fLineWidth\":1,\"fFillColor\":0,\"fFillStyle\":1001,\"fLeftMargin\":0.16,\"fRightMargin\":0.05,\"fBottomMargin\":0.16,\"fTopMargin\":0.05,\"fXfile\":2,\"fYfile\":2,\"fAfile\":1,\"fXstat\":0.99,\"fYstat\":0.99,\"fAstat\":2,\"fFrameFillColor\":0,\"fFrameLineColor\":1,\"fFrameFillStyle\":1001,\"fFrameLineStyle\":1,\"fFrameLineWidth\":1,\"fFrameBorderSize\":1,\"fFrameBorderMode\":0,\"fX1\":-6.6835439728728,\"fY1\":820115.759493831,\"fX2\":35.0886075693294,\"fY2\":820136.012658215,\"fXtoAbsPixelk\":79.3600467479706,\"fXtoPixelk\":79.3600467479706,\"fXtoPixel\":11.8739394952854,\"fYtoAbsPixelk\":19113269.9381215,\"fYtoPixelk\":19113269.9381215,\"fYtoPixel\":-23.305000198835,\"fUtoAbsPixelk\":5e-5,\"fUtoPixelk\":5e-5,\"fUtoPixel\":496,\"fVtoAbsPixelk\":472.00005,\"fVtoPixelk\":472,\"fVtoPixel\":-472,\"fAbsPixeltoXk\":-6.6835439728728,\"fPixeltoXk\":-6.6835439728728,\"fPixeltoX\":0.0842180474641174,\"fAbsPixeltoYk\":820136.012658215,\"fPixeltoYk\":820115.759493831,\"fPixeltoY\":-0.0429092465766204,\"fXlowNDC\":0,\"fYlowNDC\":0,\"fXUpNDC\":1,\"fYUpNDC\":1,\"fWNDC\":1,\"fHNDC\":1,\"fAbsXlowNDC\":0,\"fAbsYlowNDC\":0,\"fAbsWNDC\":1,\"fAbsHNDC\":1,\"fUxmin\":0,\"fUymin\":820119,\"fUxmax\":33,\"fUymax\":820135,\"fTheta\":30,\"fPhi\":30,\"fAspectRatio\":0,\"fNumber\":0,\"fTickx\":1,\"fTicky\":1,\"fLogx\":0,\"fLogy\":0,\"fLogz\":0,\"fPadPaint\":0,\"fCrosshair\":0,\"fCrosshairPos\":0,\"fBorderSize\":2,\"fBorderMode\":0,\"fModified\":false,\"fGridx\":false,\"fGridy\":false,\"fAbsCoord\":false,\"fEditable\":true,\"fFixedAspectRatio\":false,\"fPrimitives\":{\"_typename\":\"TList\",\"name\":\"TList\",\"arr\":[{\"_typename\":\"TFrame\",\"fUniqueID\":0,\"fBits\":8,\"fLineColor\":1,\"fLineStyle\":1,\"fLineWidth\":1,\"fFillColor\":0,\"fFillStyle\":1001,\"fX1\":0,\"fY1\":820119,\"fX2\":33,\"fY2\":820135,\"fBorderSize\":1,\"fBorderMode\":0},{\"_typename\":\"TH2F\",\"fUniqueID\":0,\"fBits\":521,\"fName\":\"htemp\",\"fTitle\":\"lvl1_count:frame {is_lvl1}\",\"fLineColor\":602,\"fLineStyle\":1,\"fLineWidth\":1,\"fFillColor\":0,\"fFillStyle\":1001,\"fMarkerColor\":1,\"fMarkerStyle\":1,\"fMarkerSize\":1,\"fNcells\":630,\"fXaxis\":{\"_typename\":\"TAxis\",\"fUniqueID\":0,\"fBits\":4194304,\"fName\":\"xaxis\",\"fTitle\":\"frame\",\"fNdivisions\":510,\"fAxisColor\":1,\"fLabelColor\":1,\"fLabelFont\":42,\"fLabelOffset\":0.005,\"fLabelSize\":0.05,\"fTickLength\":0.03,\"fTitleOffset\":1.4,\"fTitleSize\":0.05,\"fTitleColor\":1,\"fTitleFont\":42,\"fNbins\":33,\"fXmin\":0,\"fXmax\":33,\"fXbins\":[],\"fFirst\":1,\"fLast\":33,\"fBits2\":0,\"fTimeDisplay\":false,\"fTimeFormat\":\"\",\"fLabels\":null,\"fModLabs\":null},\"fYaxis\":{\"_typename\":\"TAxis\",\"fUniqueID\":0,\"fBits\":4194304,\"fName\":\"yaxis\",\"fTitle\":\"lvl1_count\",\"fNdivisions\":510,\"fAxisColor\":1,\"fLabelColor\":1,\"fLabelFont\":42,\"fLabelOffset\":0.005,\"fLabelSize\":0.05,\"fTickLength\":0.03,\"fTitleOffset\":1.4,\"fTitleSize\":0.05,\"fTitleColor\":1,\"fTitleFont\":42,\"fNbins\":16,\"fXmin\":820119,\"fXmax\":820135,\"fXbins\":[],\"fFirst\":1,\"fLast\":16,\"fBits2\":0,\"fTimeDisplay\":false,\"fTimeFormat\":\"\",\"fLabels\":null,\"fModLabs\":null},\"fZaxis\":{\"_typename\":\"TAxis\",\"fUniqueID\":0,\"fBits\":0,\"fName\":\"zaxis\",\"fTitle\":\"\",\"fNdivisions\":510,\"fAxisColor\":1,\"fLabelColor\":1,\"fLabelFont\":42,\"fLabelOffset\":0.005,\"fLabelSize\":0.05,\"fTickLength\":0.03,\"fTitleOffset\":1,\"fTitleSize\":0.05,\"fTitleColor\":1,\"fTitleFont\":42,\"fNbins\":1,\"fXmin\":0,\"fXmax\":1,\"fXbins\":[],\"fFirst\":0,\"fLast\":0,\"fBits2\":0,\"fTimeDisplay\":false,\"fTimeFormat\":\"\",\"fLabels\":null,\"fModLabs\":null},\"fBarOffset\":0,\"fBarWidth\":1000,\"fEntries\":0,\"fTsumw\":0,\"fTsumw2\":0,\"fTsumwx\":0,\"fTsumwx2\":0,\"fMaximum\":-1111,\"fMinimum\":-1111,\"fNormFactor\":0,\"fContour\":[],\"fSumw2\":[],\"fOption\":\"\",\"fFunctions\":{\"_typename\":\"TList\",\"name\":\"TList\",\"arr\":[],\"opt\":[]},\"fBufferSize\":3001,\"fBuffer\":{\"$arr\":\"Float64\",\"len\":3001},\"fBinStatErrOpt\":0,\"fStatOverflows\":2,\"fScalefactor\":1,\"fTsumwy\":0,\"fTsumwy2\":0,\"fTsumwxy\":0,\"fArray\":{\"$arr\":\"Float32\",\"len\":630}},{\"_typename\":\"TGraph\",\"fUniqueID\":0,\"fBits\":263177,\"fName\":\"Graph\",\"fTitle\":\"Graph\",\"fLineColor\":602,\"fLineStyle\":1,\"fLineWidth\":1,\"fFillColor\":0,\"fFillStyle\":1001,\"fMarkerColor\":1,\"fMarkerStyle\":1,\"fMarkerSize\":1,\"fNpoints\":26,\"fX\":{\"$arr\":\"Float64\",\"len\":26,\"v\":[2,2,4,4,7,7,9,9,11,11,13,13,16,16,18,18,20,20,22,22,25,25,27,27,29,29]},\"fY\":{\"$arr\":\"Float64\",\"len\":26,\"v\":[820121,820121,820122,820122,820123,820123,820124,820124,820125,820125,820126,820126,820127,820127,820128,820128,820129,820129,820130,820130,820131,820131,820132,820132,820133,820133]},\"fFunctions\":{\"_typename\":\"TList\",\"name\":\"TList\",\"arr\":[],\"opt\":[]},\"fHistogram\":{\"_typename\":\"TH1F\",\"fUniqueID\":0,\"fBits\":512,\"fName\":\"Graph\",\"fTitle\":\"Graph\",\"fLineColor\":1,\"fLineStyle\":1,\"fLineWidth\":2,\"fFillColor\":0,\"fFillStyle\":1001,\"fMarkerColor\":1,\"fMarkerStyle\":20,\"fMarkerSize\":1.2,\"fNcells\":102,\"fXaxis\":{\"_typename\":\"TAxis\",\"fUniqueID\":0,\"fBits\":0,\"fName\":\"xaxis\",\"fTitle\":\"\",\"fNdivisions\":510,\"fAxisColor\":1,\"fLabelColor\":1,\"fLabelFont\":42,\"fLabelOffset\":0.005,\"fLabelSize\":0.05,\"fTickLength\":0.03,\"fTitleOffset\":1.4,\"fTitleSize\":0.05,\"fTitleColor\":1,\"fTitleFont\":42,\"fNbins\":100,\"fXmin\":0,\"fXmax\":31.7,\"fXbins\":[],\"fFirst\":0,\"fLast\":0,\"fBits2\":0,\"fTimeDisplay\":false,\"fTimeFormat\":\"\",\"fLabels\":null,\"fModLabs\":null},\"fYaxis\":{\"_typename\":\"TAxis\",\"fUniqueID\":0,\"fBits\":0,\"fName\":\"yaxis\",\"fTitle\":\"\",\"fNdivisions\":510,\"fAxisColor\":1,\"fLabelColor\":1,\"fLabelFont\":42,\"fLabelOffset\":0.005,\"fLabelSize\":0.05,\"fTickLength\":0.03,\"fTitleOffset\":1.4,\"fTitleSize\":0.05,\"fTitleColor\":1,\"fTitleFont\":42,\"fNbins\":1,\"fXmin\":820119.8,\"fXmax\":820134.2,\"fXbins\":[],\"fFirst\":0,\"fLast\":0,\"fBits2\":0,\"fTimeDisplay\":false,\"fTimeFormat\":\"\",\"fLabels\":null,\"fModLabs\":null},\"fZaxis\":{\"_typename\":\"TAxis\",\"fUniqueID\":0,\"fBits\":0,\"fName\":\"zaxis\",\"fTitle\":\"\",\"fNdivisions\":510,\"fAxisColor\":1,\"fLabelColor\":1,\"fLabelFont\":42,\"fLabelOffset\":0.005,\"fLabelSize\":0.05,\"fTickLength\":0.03,\"fTitleOffset\":1,\"fTitleSize\":0.05,\"fTitleColor\":1,\"fTitleFont\":42,\"fNbins\":1,\"fXmin\":0,\"fXmax\":1,\"fXbins\":[],\"fFirst\":0,\"fLast\":0,\"fBits2\":0,\"fTimeDisplay\":false,\"fTimeFormat\":\"\",\"fLabels\":null,\"fModLabs\":null},\"fBarOffset\":0,\"fBarWidth\":1000,\"fEntries\":0,\"fTsumw\":0,\"fTsumw2\":0,\"fTsumwx\":0,\"fTsumwx2\":0,\"fMaximum\":820134.2,\"fMinimum\":820119.8,\"fNormFactor\":0,\"fContour\":[],\"fSumw2\":[],\"fOption\":\"\",\"fFunctions\":{\"_typename\":\"TList\",\"name\":\"TList\",\"arr\":[],\"opt\":[]},\"fBufferSize\":0,\"fBuffer\":[],\"fBinStatErrOpt\":0,\"fStatOverflows\":2,\"fArray\":{\"$arr\":\"Float32\",\"len\":102}},\"fMinimum\":-1111,\"fMaximum\":-1111},{\"_typename\":\"TStyle\",\"fUniqueID\":0,\"fBits\":0,\"fName\":\"sPHENIX\",\"fTitle\":\"sPHENIX style\",\"fLineColor\":1,\"fLineStyle\":1,\"fLineWidth\":1,\"fFillColor\":19,\"fFillStyle\":1001,\"fMarkerColor\":1,\"fMarkerStyle\":20,\"fMarkerSize\":1.2,\"fTextAngle\":0,\"fTextSize\":0.05,\"fTextAlign\":11,\"fTextColor\":1,\"fTextFont\":42,\"fXaxis\":{\"_typename\":\"TAttAxis\",\"fNdivisions\":510,\"fAxisColor\":1,\"fLabelColor\":1,\"fLabelFont\":42,\"fLabelOffset\":0.005,\"fLabelSize\":0.05,\"fTickLength\":0.03,\"fTitleOffset\":1.4,\"fTitleSize\":0.05,\"fTitleColor\":1,\"fTitleFont\":42},\"fYaxis\":{\"_typename\":\"TAttAxis\",\"fNdivisions\":510,\"fAxisColor\":1,\"fLabelColor\":1,\"fLabelFont\":42,\"fLabelOffset\":0.005,\"fLabelSize\":0.05,\"fTickLength\":0.03,\"fTitleOffset\":1.4,\"fTitleSize\":0.05,\"fTitleColor\":1,\"fTitleFont\":42},\"fZaxis\":{\"_typename\":\"TAttAxis\",\"fNdivisions\":510,\"fAxisColor\":1,\"fLabelColor\":1,\"fLabelFont\":42,\"fLabelOffset\":0.005,\"fLabelSize\":0.05,\"fTickLength\":0.03,\"fTitleOffset\":1,\"fTitleSize\":0.05,\"fTitleColor\":1,\"fTitleFont\":42},\"fBarWidth\":1,\"fBarOffset\":0,\"fColorModelPS\":0,\"fDrawBorder\":0,\"fOptLogx\":0,\"fOptLogy\":0,\"fOptLogz\":0,\"fOptDate\":0,\"fOptStat\":0,\"fOptTitle\":0,\"fOptFile\":0,\"fOptFit\":0,\"fShowEventStatus\":0,\"fShowEditor\":0,\"fShowToolBar\":0,\"fNumberContours\":80,\"fAttDate\":{\"_typename\":\"TAttText\",\"fTextAngle\":0,\"fTextSize\":0.025,\"fTextAlign\":11,\"fTextColor\":1,\"fTextFont\":62},\"fDateX\":0.01,\"fDateY\":0.01,\"fEndErrorSize\":0,\"fErrorX\":0.5,\"fFuncColor\":1,\"fFuncStyle\":1,\"fFuncWidth\":3,\"fGridColor\":0,\"fGridStyle\":3,\"fGridWidth\":1,\"fLegendBorderSize\":0,\"fLegendFillColor\":0,\"fLegendFont\":42,\"fLegendTextSize\":0.05,\"fHatchesLineWidth\":1,\"fHatchesSpacing\":1,\"fFrameFillColor\":0,\"fFrameLineColor\":1,\"fFrameFillStyle\":1001,\"fFrameLineStyle\":1,\"fFrameLineWidth\":1,\"fFrameBorderSize\":1,\"fFrameBorderMode\":0,\"fHistFillColor\":0,\"fHistLineColor\":1,\"fHistFillStyle\":1001,\"fHistLineStyle\":1,\"fHistLineWidth\":2,\"fHistMinimumZero\":false,\"fHistTopMargin\":0.05,\"fCanvasPreferGL\":false,\"fCanvasColor\":0,\"fCanvasBorderSize\":2,\"fCanvasBorderMode\":0,\"fCanvasDefH\":500,\"fCanvasDefW\":700,\"fCanvasDefX\":10,\"fCanvasDefY\":10,\"fPadColor\":0,\"fPadBorderSize\":2,\"fPadBorderMode\":0,\"fPadBottomMargin\":0.16,\"fPadTopMargin\":0.05,\"fPadLeftMargin\":0.16,\"fPadRightMargin\":0.05,\"fPadGridX\":false,\"fPadGridY\":false,\"fPadTickX\":1,\"fPadTickY\":1,\"fPaperSizeX\":20,\"fPaperSizeY\":26,\"fScreenFactor\":1,\"fStatColor\":0,\"fStatTextColor\":1,\"fStatBorderSize\":2,\"fStatFont\":62,\"fStatFontSize\":0,\"fStatStyle\":1001,\"fStatFormat\":\"6.4g\",\"fStatX\":0.98,\"fStatY\":0.995,\"fStatW\":0.2,\"fStatH\":0.16,\"fStripDecimals\":true,\"fTitleAlign\":13,\"fTitleColor\":19,\"fTitleTextColor\":1,\"fTitleBorderSize\":2,\"fTitleFont\":62,\"fTitleFontSize\":0,\"fTitleStyle\":1001,\"fTitleX\":0.01,\"fTitleY\":0.995,\"fTitleW\":0,\"fTitleH\":0,\"fLegoInnerR\":0.5,\"fLineStyles\":[\"\",\"  \",\"  12 12 \",\" 4 8\",\" 12 16 4 16\",\" 20 12 4 12\",\" 20 12 4 12 4 12 4 12\",\" 20 20\",\" 20 12 4 12 4 12\",\" 80 20\",\" 80 40 4 40\",\"  \",\"  \",\"  \",\"  \",\"  \",\"  \",\"  \",\"  \",\"  \",\"  \",\"  \",\"  \",\"  \",\"  \",\"  \",\"  \",\"  \",\"  \",\"  \"],\"fHeaderPS\":\"\",\"fTitlePS\":\"\",\"fFitFormat\":\"5.4g\",\"fPaintTextFormat\":\"g\",\"fLineScalePS\":3,\"fJoinLinePS\":0,\"fCapLinePS\":0,\"fTimeOffset\":788918400,\"fImageScaling\":1}],\"opt\":[\"\",\"\",\"p\",\"\"]},\"fExecs\":null,\"fName\":\"ADCQA\",\"fTitle\":\"ADCQA\",\"fNumPaletteColor\":0,\"fNextPaletteColor\":0,\"fDISPLAY\":\"$DISPLAY\",\"fDoubleBuffer\":0,\"fRetained\":true,\"fXsizeUser\":0,\"fYsizeUser\":0,\"fXsizeReal\":20,\"fYsizeReal\":20,\"fWindowTopX\":0,\"fWindowTopY\":0,\"fWindowWidth\":0,\"fWindowHeight\":0,\"fCw\":496,\"fCh\":472,\"fCatt\":{\"_typename\":\"TAttCanvas\",\"fXBetween\":2,\"fYBetween\":2,\"fTitleFromTop\":1.2,\"fXdate\":0.2,\"fYdate\":0.3,\"fAdate\":1},\"kMoveOpaque\":true,\"kResizeOpaque\":true,\"fHighLightColor\":2,\"fBatch\":true,\"kShowEventStatus\":false,\"kAutoExec\":true,\"kMenuBar\":true});\n",
       "   Core.settings.HandleKeys = false;\n",
       "   Core.draw(\"root_plot_1685386911020\", obj, \"\");\n",
       "}\n",
       "\n",
       "function script_load_root_plot_1685386911020(src, on_error) {\n",
       "    let script = document.createElement('script');\n",
       "    script.src = src;\n",
       "    script.onload = function() { display_root_plot_1685386911020(JSROOT); };\n",
       "    script.onerror = function() { script.remove(); on_error(); };\n",
       "    document.head.appendChild(script);\n",
       "}\n",
       "\n",
       "if (typeof requirejs !== 'undefined') {\n",
       "\n",
       "    // We are in jupyter notebooks, use require.js which should be configured already\n",
       "    requirejs.config({\n",
       "       paths: { 'JSRootCore' : [ 'scripts/JSRoot.core', 'https://root.cern/js/6.1.1/scripts/JSRoot.core.min', 'https://jsroot.gsi.de/6.1.1/scripts/JSRoot.core.min' ] }\n",
       "    })(['JSRootCore'],  function(Core) {\n",
       "       display_root_plot_1685386911020(Core);\n",
       "    });\n",
       "\n",
       "} else if (typeof JSROOT !== 'undefined') {\n",
       "\n",
       "   // JSROOT already loaded, just use it\n",
       "   display_root_plot_1685386911020(JSROOT);\n",
       "\n",
       "} else {\n",
       "\n",
       "    // We are in jupyterlab without require.js, directly loading jsroot\n",
       "    // Jupyterlab might be installed in a different base_url so we need to know it.\n",
       "    try {\n",
       "        var base_url = JSON.parse(document.getElementById('jupyter-config-data').innerHTML).baseUrl;\n",
       "    } catch(_) {\n",
       "        var base_url = '/';\n",
       "    }\n",
       "\n",
       "    // Try loading a local version of requirejs and fallback to cdn if not possible.\n",
       "    script_load_root_plot_1685386911020(base_url + 'static/scripts/JSRoot.core.js', function(){\n",
       "        console.error('Fail to load JSROOT locally, please check your jupyter_notebook_config.py file');\n",
       "        script_load_root_plot_1685386911020('https://root.cern/js/6.1.1/scripts/JSRoot.core.min.js', function(){\n",
       "            document.getElementById(\"root_plot_1685386911020\").innerHTML = \"Failed to load JSROOT\";\n",
       "        });\n",
       "    });\n",
       "}\n",
       "\n",
       "</script>\n"
      ],
      "text/plain": [
       "<IPython.core.display.HTML object>"
      ]
     },
     "metadata": {},
     "output_type": "display_data"
    }
   ],
   "source": [
    "\n",
    "c1 = ROOT.TCanvas( 'ADCQA', 'ADCQA', 500, 500)\n",
    "\n",
    "files['03'].TaggerTree.Draw(f\"lvl1_count:frame\",\"is_lvl1\");\n",
    "    \n",
    "c1.Draw(\"\")"
   ]
  },
  {
   "cell_type": "code",
   "execution_count": 9,
   "id": "ba0d2e9f-8652-4ba9-a071-d47cd17604ab",
   "metadata": {},
   "outputs": [
    {
     "name": "stderr",
     "output_type": "stream",
     "text": [
      "Warning in <TCanvas::Constructor>: Deleting canvas with same name: ADCQA\n"
     ]
    },
    {
     "data": {
      "text/html": [
       "\n",
       "\n",
       "<div id=\"root_plot_1685386912618\"\n",
       "     style=\"width: 496px; height: 472px\">\n",
       "</div>\n",
       "<script>\n",
       "\n",
       "function display_root_plot_1685386912618(Core) {\n",
       "   let obj = Core.parse({\"_typename\":\"TCanvas\",\"fUniqueID\":0,\"fBits\":3342344,\"fLineColor\":1,\"fLineStyle\":1,\"fLineWidth\":1,\"fFillColor\":0,\"fFillStyle\":1001,\"fLeftMargin\":0.16,\"fRightMargin\":0.05,\"fBottomMargin\":0.16,\"fTopMargin\":0.05,\"fXfile\":2,\"fYfile\":2,\"fAfile\":1,\"fXstat\":0.99,\"fYstat\":0.99,\"fAstat\":2,\"fFrameFillColor\":0,\"fFrameLineColor\":1,\"fFrameFillStyle\":1001,\"fFrameLineStyle\":1,\"fFrameLineWidth\":1,\"fFrameBorderSize\":1,\"fFrameBorderMode\":0,\"fX1\":-72.9113887949759,\"fY1\":-207.392394794598,\"fX2\":382.78480984723,\"fY2\":1088.81012578768,\"fXtoAbsPixelk\":79.3600467479706,\"fXtoPixelk\":79.3600467479706,\"fXtoPixel\":1.08844445373449,\"fYtoAbsPixelk\":396.480053094673,\"fYtoPixelk\":396.480053094673,\"fYtoPixel\":-0.364140628107998,\"fUtoAbsPixelk\":5e-5,\"fUtoPixelk\":5e-5,\"fUtoPixel\":496,\"fVtoAbsPixelk\":472.00005,\"fVtoPixelk\":472,\"fVtoPixel\":-472,\"fAbsPixeltoXk\":-72.9113887949759,\"fPixeltoXk\":-72.9113887949759,\"fPixeltoX\":0.91874233597219,\"fAbsPixeltoYk\":1088.81012578768,\"fPixeltoYk\":-207.392394794598,\"fPixeltoY\":-2.74619178089465,\"fXlowNDC\":0,\"fYlowNDC\":0,\"fXUpNDC\":1,\"fYUpNDC\":1,\"fWNDC\":1,\"fHNDC\":1,\"fAbsXlowNDC\":0,\"fAbsYlowNDC\":0,\"fAbsWNDC\":1,\"fAbsHNDC\":1,\"fUxmin\":0,\"fUymin\":0,\"fUxmax\":360,\"fUymax\":1024,\"fTheta\":30,\"fPhi\":30,\"fAspectRatio\":0,\"fNumber\":0,\"fTickx\":1,\"fTicky\":1,\"fLogx\":0,\"fLogy\":0,\"fLogz\":1,\"fPadPaint\":0,\"fCrosshair\":0,\"fCrosshairPos\":0,\"fBorderSize\":2,\"fBorderMode\":0,\"fModified\":false,\"fGridx\":false,\"fGridy\":false,\"fAbsCoord\":false,\"fEditable\":true,\"fFixedAspectRatio\":false,\"fPrimitives\":{\"_typename\":\"TList\",\"name\":\"TList\",\"arr\":[{\"_typename\":\"TFrame\",\"fUniqueID\":0,\"fBits\":8,\"fLineColor\":1,\"fLineStyle\":1,\"fLineWidth\":1,\"fFillColor\":0,\"fFillStyle\":1001,\"fX1\":0,\"fY1\":0,\"fX2\":360,\"fY2\":1024,\"fBorderSize\":1,\"fBorderMode\":0},{\"_typename\":\"TH2F\",\"fUniqueID\":0,\"fBits\":520,\"fName\":\"hADC23\",\"fTitle\":\"\",\"fLineColor\":1,\"fLineStyle\":1,\"fLineWidth\":2,\"fFillColor\":0,\"fFillStyle\":1001,\"fMarkerColor\":1,\"fMarkerStyle\":20,\"fMarkerSize\":1.2,\"fNcells\":93396,\"fXaxis\":{\"_typename\":\"TAxis\",\"fUniqueID\":0,\"fBits\":4194304,\"fName\":\"xaxis\",\"fTitle\":\"Sector23: ADC Time bin [1\\/20MHz]\",\"fNdivisions\":510,\"fAxisColor\":1,\"fLabelColor\":1,\"fLabelFont\":42,\"fLabelOffset\":0.005,\"fLabelSize\":0.05,\"fTickLength\":0.03,\"fTitleOffset\":1.4,\"fTitleSize\":0.05,\"fTitleColor\":1,\"fTitleFont\":42,\"fNbins\":360,\"fXmin\":0,\"fXmax\":360,\"fXbins\":[],\"fFirst\":0,\"fLast\":0,\"fBits2\":0,\"fTimeDisplay\":false,\"fTimeFormat\":\"\",\"fLabels\":null,\"fModLabs\":null},\"fYaxis\":{\"_typename\":\"TAxis\",\"fUniqueID\":0,\"fBits\":4194304,\"fName\":\"yaxis\",\"fTitle\":\" ADC [ADU]\",\"fNdivisions\":510,\"fAxisColor\":1,\"fLabelColor\":1,\"fLabelFont\":42,\"fLabelOffset\":0.005,\"fLabelSize\":0.05,\"fTickLength\":0.03,\"fTitleOffset\":1.4,\"fTitleSize\":0.05,\"fTitleColor\":1,\"fTitleFont\":42,\"fNbins\":256,\"fXmin\":0,\"fXmax\":1024,\"fXbins\":[],\"fFirst\":0,\"fLast\":0,\"fBits2\":0,\"fTimeDisplay\":false,\"fTimeFormat\":\"\",\"fLabels\":null,\"fModLabs\":null},\"fZaxis\":{\"_typename\":\"TAxis\",\"fUniqueID\":0,\"fBits\":0,\"fName\":\"zaxis\",\"fTitle\":\"\",\"fNdivisions\":510,\"fAxisColor\":1,\"fLabelColor\":1,\"fLabelFont\":42,\"fLabelOffset\":0.005,\"fLabelSize\":0.05,\"fTickLength\":0.03,\"fTitleOffset\":1,\"fTitleSize\":0.05,\"fTitleColor\":1,\"fTitleFont\":42,\"fNbins\":1,\"fXmin\":0,\"fXmax\":1,\"fXbins\":[],\"fFirst\":0,\"fLast\":0,\"fBits2\":0,\"fTimeDisplay\":false,\"fTimeFormat\":\"\",\"fLabels\":null,\"fModLabs\":null},\"fBarOffset\":0,\"fBarWidth\":1000,\"fEntries\":21138840,\"fTsumw\":21138840,\"fTsumw2\":21138840,\"fTsumwx\":3794421780,\"fTsumwx2\":909396419940,\"fMaximum\":-1111,\"fMinimum\":-1111,\"fNormFactor\":0,\"fContour\":{\"$arr\":\"Float64\",\"len\":80,\"p\":1,\"v\":[0.0523390716012716,0.104678143202543,0.157017214803815,0.209356286405086,0.261695358006358,0.31403442960763,0.366373501208901,0.418712572810173,0.471051644411444,0.523390716012716,0.575729787613988,0.628068859215259,0.680407930816531,0.732747002417802,0.785086074019074,0.837425145620346,0.889764217221617,0.942103288822889,0.99444236042416,1.04678143202543,1.0991205036267,1.15145957522798,1.20379864682925,1.25613771843052,1.30847679003179,1.36081586163306,1.41315493323433,1.4654940048356,1.51783307643688,1.57017214803815,1.62251121963942,1.67485029124069,1.72718936284196,1.77952843444323,1.83186750604451,1.88420657764578,1.93654564924705,1.98888472084832,2.04122379244959,2.09356286405086,2.14590193565214,2.19824100725341,2.25058007885468,2.30291915045595,2.35525822205722,2.40759729365849,2.45993636525977,2.51227543686104,2.56461450846231,2.61695358006358,2.66929265166485,2.72163172326612,2.77397079486739,2.82630986646867,2.87864893806994,2.93098800967121,2.98332708127248,3.03566615287375,3.08800522447502,3.1403442960763,3.19268336767757,3.24502243927884,3.29736151088011,3.34970058248138,3.40203965408265,3.45437872568393,3.5067177972852,3.55905686888647,3.61139594048774,3.66373501208901,3.71607408369028,3.76841315529156,3.82075222689283,3.8730912984941,3.92543037009537,3.97776944169664,4.03010851329791,4.08244758489919,4.13478665650046]},\"fSumw2\":[],\"fOption\":\"\",\"fFunctions\":{\"_typename\":\"TList\",\"name\":\"TList\",\"arr\":[{\"_typename\":\"TPaletteAxis\",\"fUniqueID\":0,\"fBits\":0,\"fLineColor\":1,\"fLineStyle\":1,\"fLineWidth\":1,\"fFillColor\":1178,\"fFillStyle\":1001,\"fX1\":362.278480993211,\"fY1\":0,\"fX2\":382.556961747909,\"fY2\":1024,\"fX1NDC\":0.955000000186264,\"fY1NDC\":0.159999993443489,\"fX2NDC\":0.9995,\"fY2NDC\":0.950000000186265,\"fBorderSize\":4,\"fInit\":1,\"fShadowColor\":1,\"fCornerRadius\":0,\"fOption\":\"br\",\"fName\":\"palette\",\"fAxis\":{\"_typename\":\"TGaxis\",\"fUniqueID\":0,\"fBits\":0,\"fLineColor\":1,\"fLineStyle\":1,\"fLineWidth\":1,\"fX1\":0,\"fY1\":0,\"fX2\":0,\"fY2\":0,\"fTextAngle\":0,\"fTextSize\":0.04,\"fTextAlign\":11,\"fTextColor\":1,\"fTextFont\":42,\"fWmin\":0,\"fWmax\":0,\"fGridLength\":0,\"fTickSize\":0.03,\"fLabelOffset\":0.005,\"fLabelSize\":0.05,\"fTitleOffset\":1,\"fTitleSize\":0.05,\"fNdiv\":0,\"fLabelColor\":1,\"fLabelFont\":42,\"fNModLabs\":0,\"fChopt\":\"\",\"fName\":\"\",\"fTitle\":\"\",\"fTimeFormat\":\"\",\"fFunctionName\":\"\",\"fModLabs\":null}}],\"opt\":[\"br\"]},\"fBufferSize\":0,\"fBuffer\":[],\"fBinStatErrOpt\":0,\"fStatOverflows\":2,\"fScalefactor\":1,\"fTsumwy\":1683753288,\"fTsumwy2\":211543265620,\"fTsumwxy\":302299574649,\"fArray\":{\"$arr\":\"Float32\",\"len\":93396,\"p\":363,\"v\":149,\"n\":360,\"p1\":725,\"v1\":10,\"n1\":360,\"p2\":1811,\"v2\":1,\"p3\":3787,\"v3\":1,\"p4\":3985,\"v4\":[1,0,0,0,0,0,0,0,0,0,1,1,0,0,1,0,0,0,0,0,0,0,1,0,0,0,0,0,1,0,1],\"p5\":4028,\"v5\":[1,0,0,1,0,0,1,1],\"p6\":4049,\"v6\":[1,2,0,0,1,0,1,1,0,0,0,0,0,1,0,0,1,0,0,0,2,0,0,1,0,0,1,0,1,0,0,0,0,0,0,0,0,0,1,0,0,0,0,0,0,2,2,1,0,1,0,0,1,0,0,0,0,0,0,1],\"p7\":4121,\"v7\":[1,1,0,0,0,1,0,0,0,2,1,0,1,0,0,0,0,0,1,0,0,0,0,0,0,1,0,1,0,0,0,0,0,2,0,0,2,0,0,2],\"p8\":4172,\"v8\":[1,1,0,0,0,0,0,1,0,1,0,0,0,1,0,0,0,1,0,2,0,0,0,0,2,0,2],\"p9\":4211,\"v9\":[1,0,0,2],\"p10\":4230,\"v10\":[1,0,0,0,1,0,0,0,1,0,0,0,0,1,2,0,0,1,0,0,0,0,0,0,0,0,0,1,0,1,0,0,2,0,1,0,0,1,0,0,1,0,0,0,0,1,0,0,0,2,1],\"p11\":4291,\"v11\":[1,1,0,0,1,1,0,1,1,0,0,0,0,0,0,1,1,0,1,1,0,0,1,0,0,1,0,0,0,0,1,0,0,0,0,0,0,0,0,1,1,0,1,2,0,0,0,0,1,0,0,0,0,0,4,10,5,4,5,7,8,5,13,3,11,9,11,15,6,7,7,10,10,6,5,8,4,15,4,8,5,10,6,8,10,11,3,4,8,7,5,13,12,11,6,3,3,7,5,4,8,7,8,4,4,7,5,3,9,2,9,9,11,5,8,5,5,6,5,5,4,8,5,6,8,2,5,7,7,5,5,10,9,9,8,4,13,9,3,8,7,5,7,5,8,7,7,5,8,9,4,6,9,4,10,5,4,15,4,4,14,5,0,5,7,13,3,9,7,6,1,4,10,4,4,6,6,4,9,3,5,5,5,5,13,3,5,13,6,7,6,4,6,6,4,7,4,5,10,8,4,10,7,4,15,3,3,12,4,3,5,2,3,9,7,4,5,6,3,6,2,5,9,7,8,2,3,8,9,2,6,8,4,10,6,2,6,8,6,4,2,5,7,4,8,4,7,6,2,5,7,7,8,8,2,4,7,6,7,9,5,2,4,2,5,6,8,1,3,3,7,2,8,8,4,12,5,4,3,7,9,6,6,3,6,7,7,5,13,11,1,5,11,15,4,9,4,7,3,9,5,5,6,2,6,6,6,6,7,5,5,3,6,2,7,18,5,2,8,4,7,8,4,9,9,4,6,4,7,4,6,3,4,10,11,6,6,6,8,3,8,9,1,4,7,2,8,7,0,4,6,4,8,11,9,1,6,4,2,7,5,4,6,5,5,4,4,2,6,8,2,8,7,7,5,9,7,6,7,6,4,6,3,2,4,4,9,5,2,4,6,0,14,5,2,8,8,9,5,3,7,5,4,4,6,4,7,4,7,9,7,6,7,5,0,0,47,43,70,48,56,66,40,64,51,56,60,49,49,66,44,51,53,56,55,29,51,53,43,61,58,40,64,49,54,50,43,61,64,53,68,47,53,47,49,43,48,51,52,73,59,42,53,54,54,66,55,58,64,59,63,55,51,47,55,58,50,58,43,51,56,54,58,63,48,45,64,52,52,59,71,51,55,57,52,52,52,53,49,61,48,67,54,39,76,46,51,54,47,64,65,48,57,68,44,48,67,46,27,76,47,38,58,45,29,45,63,69,73,53,55,59,39,51,48,34,46,69,50,50,59,58,63,53,38,54,46,54,52,46,45,50,60,59,52,53,51,47,64,50,54,54,46,70,51,41,74,40,42,63,38,50,66,35,54,44,39,50,48,54,48,56,50,42,51,45,51,63,30,50,60,41,53,55,43,43,38,40,60,55,43,59,47,62,45,48,53,42,66,55,48,65,49,49,70,47,51,42,59,62,30,63,48,41,52,46,44,60,52,45,47,55,48,48,50,57,50,48,50,47,60,59,56,56,38,48,59,48,54,59,47,61,48,48,64,60,47,55,60,53,46,52,48,50,54,46,45,58,47,48,58,48,39,55,55,51,49,63,58,49,60,46,44,57,46,50,58,43,46,68,47,49,63,47,49,60,55,54,46,54,64,31,41,69,43,38,66,50,53,58,44,50,53,48,37,55,38,49,59,52,45,60,40,49,53,51,43,54,57,46,59,65,47,49,66,45,51,58,48,52,51,49,46,56,48,47,48,53,64,42,49,68,50,41,69,44,40,64,60,51,52,45,62,48,55,58,46,48,57,47,53,57,53,46,48,58,0,0,169,166,142,160,155,153,160,166,162,145,171,142,149,149,143,161,169,142,158,148,164,152,154,170,161,157,161,159,164,153,157,159,139,150,132,160,165,152,144,141,166,164,155,139,157,142,164,162,155,153,161,148,154,145,148,169,153,155,165,154,159,161,164,156,155,142,166,165,135,155,162,151,137,161,165,152,155,150,158,166,157,162,168,135,149,162,145,162,148,163,155,171,141,142,151,146,148,143,149,154,167,167,150,155,147,167,173,144,132,159,170,154,155,140,150,162,146,137,174,154,159,152,140,147,153,153,161,157,139,157,159,138,148,161,144,145,152,130,168,159,155,165,130,140,162,141,150,160,144,157,158,148,138,166,160,144,154,156,158,149,169,144,151,167,166,149,160,150,166,133,155,157,146,139,160,158,139,172,147,167,185,142,156,159,161,133,148,167,156,148,160,138,147,156,138,143,147,145,145,149,157,153,141,161,154,148,162,159,148,144,151,154,162,157,160,170,150,129,162,162,132,164,160,137,161,149,136,156,169,143,160,151,129,153,161,155,162,142,157,153,146,160,168,139,158,161,159,148,130,148,152,162,153,150,157,155,163,161,153,147,153,139,140,148,153,147,149,150,164,149,171,154,149,154,150,146,168,145,149,141,142,161,151,145,159,155,144,152,159,153,154,160,143,164,158,154,143,149,144,163,179,152,155,151,170,152,147,167,170,147,139,154,155,156,142,153,158,137,169,153,142,159,157,158,164,156,160,165,151,161,154,145,163,157,146,160,149,147,152,156,149,150,140,149,137,163,149,144,146,170,152,144,164,153,145,166,152,149,154,142,0,0,255,303,310,294,260,274,308,296,291,306,279,297,330,300,257,327,244,297,310,291,286,292,286,270,294,279,270,295,278,289,281,290,300,302,302,277,310,293,295,327,296,315,294,284,269,311,293,282,312,275,296,300,303,282,287,281,283,299,266,267,302,292,290,287,306,296,269,301,315,285,283,280,288,295,268,271,287,298,292,280,289,281,282,297,274,318,284,288,298,288,293,289,274,315,283,295,292,288,300,296,278,307,306,292,289,307,248,311,259,263,271,285,304,301,297,295,289,304,297,305,300,282,269,288,258,271,278,317,268,285,292,286,310,277,284,305,276,246,261,299,291,275,291,294,277,303,284,268,298,275,265,299,305,264,290,298,282,295,268,299,308,294,282,270,280,304,302,301,302,289,297,284,324,290,278,312,268,266,270,291,277,294,258,295,294,283,290,268,266,299,286,285,309,290,264,284,313,289,281,274,298,315,271,279,285,279,285,274,310,311,282,295,296,263,272,277,286,306,273,260,310,266,268,270,278,280,292,266,295,286,293,290,284,313,275,277,296,264,290,307,268,288,299,291,271,277,264,292,310,299,263,284,298,270,307,280,291,295,273,284,266,277,281,305,275,288,284,277,283,279,284,269,288,290,284,310,283,285,322,298,281,274,292,308,272,263,265,308,284,277,262,266,279,281,282,281,290,285,296,262,301,293,294,272,273,288,304,263,269,287,304,301,291,279,272,268,266,290,277,289,302,262,284,274,278,273,254,284,297,280,277,283,306,272,282,298,313,274,285,270,294,276,248,287,265,273,304,304,276,278,281,303,301,283,286,288,279,325,281,286,0,0,836,877,914,918,864,849,898,875,835,925,876,871,884,897,915,911,826,882,893,832,866,861,892,898,890,863,887,865,858,903,873,860,873,871,835,913,850,885,915,850,882,891,816,863,872,873,879,842,909,853,906,874,951,887,821,934,885,848,913,871,875,873,865,889,891,867,843,891,807,843,883,903,890,957,844,888,921,892,928,869,934,861,938,845,912,941,900,936,898,853,877,940,896,900,883,887,900,895,858,880,884,884,887,860,874,870,933,934,741,759,720,824,874,860,904,956,885,786,865,758,858,796,818,844,869,781,821,785,796,859,790,829,872,871,839,856,855,788,836,835,798,876,862,801,876,882,803,833,870,855,840,825,870,829,831,852,880,869,834,835,774,822,798,820,811,827,835,833,845,803,859,815,782,776,883,847,869,837,801,768,893,774,791,841,842,824,854,819,782,865,807,786,865,856,772,853,838,818,863,791,811,845,818,841,821,839,868,773,824,823,812,831,830,803,859,833,846,830,780,817,843,819,825,843,811,836,878,785,824,860,906,827,807,911,861,828,874,809,838,834,760,867,802,780,884,774,846,844,836,758,810,846,808,776,796,833,846,807,799,857,882,829,850,836,832,825,813,804,874,805,869,854,805,783,804,887,846,830,918,809,854,850,787,840,887,786,839,856,831,801,851,907,803,832,787,862,836,762,797,820,836,824,835,815,794,781,818,772,874,793,825,759,816,859,850,829,785,860,895,842,884,842,809,827,860,818,879,822,795,877,858,796,795,839,822,826,822,836,829,802,876,816,808,863,870,793,940,820,830,794,830,842,848,853,836,872,873,836,791,894,0,0,4728,4667,4875,4780,4767,4992,4790,4827,4823,4819,4917,4797,5044,4791,4720,5168,4728,4813,4908,4565,4937,4976,4682,4803,4930,4794,4872,4767,4829,4824,4809,4897,4792,4872,4764,4892,4757,4799,4748,4994,4759,4895,4841,4992,4773,4870,4750,4786,5022,4783,4691,4828,5035,4801,4883,4865,4729,4743,4895,4750,4849,4770,4775,4716,4932,4875,4860,4956,4809,4873,4881,4725,4841,4777,4770,4667,4910,5039,5010,4679,4871,4810,4990,4731,4766,4894,4655,4871,4916,4817,4825,5020,4749,4862,4740,4797,4839,4880,4761,4797,5023,4828,4848,4835,4858,4822,4663,4799,4068,4403,4552,4881,5087,5005,4982,5237,4952,4695,4881,4484,4802,4745,4805,4729,4880,4693,4815,4799,4648,4953,4689,4814,4876,4661,4619,4864,4863,4445,4793,4955,4645,4860,4884,4753,4769,4825,4823,4728,4764,4719,4921,4649,4678,4899,4785,4615,4810,4836,4859,4828,4695,4792,4632,4888,4716,4692,4697,4772,4704,4638,4911,4771,4770,4732,4866,4738,4706,4732,4698,4721,4722,4645,4776,4829,4792,4613,4906,4784,4663,4796,4883,4631,4807,5001,4474,4852,4707,4793,4857,4649,4671,4876,4648,4753,4648,4694,4912,4719,4918,4804,4570,4788,4901,4591,4774,4743,4805,4734,4809,4735,4807,4817,4858,4634,4663,4897,4827,4806,4696,4778,4832,4757,4691,4780,4834,4902,4710,4657,4950,4829,4801,4777,4601,4783,4780,4686,4774,4865,4729,4727,4724,4899,4662,4746,4985,4762,4643,4826,4769,4655,4750,4745,4585,4935,4729,4597,4921,4724,4730,4838,4838,4764,4608,4926,4805,4834,4814,4616,4953,4762,4735,4725,4658,4905,4955,4526,4757,4813,4768,4656,4732,4827,4671,4661,4642,4766,4769,4609,4682,4732,4727,4812,4713,4564,4768,4764,4773,4671,4804,4851,4818,4641,4725,4734,4889,4754,4705,4805,4849,4600,4889,4755,4811,4826,4845,4732,4785,4821,4678,4688,4686,4689,4993,4869,4860,4704,4790,4686,4914,4585,4849,4903,4678,4872,4706,4577,4904,4742,4796,4760,4889,4809,4842,4798,4711,4848,4735,4723,4818,4703,0,0,11174,11338,11563,11235,11277,11379,11308,11321,11560,11142,11364,11265,11414,11232,11182,11708,11187,11404,11490,11140,11341,11432,11338,11192,11330,11171,11459,11282,11352,11454,11215,11189,11486,11379,11304,11453,11239,11486,11419,11442,11310,11515,11193,11329,11161,11294,11296,11394,11455,11355,11181,11254,11523,11163,11250,11413,11306,11428,11544,11184,11174,11387,11455,11421,11504,11451,11241,11498,11398,11298,11308,11295,11255,11443,11287,11174,11455,11257,11563,11126,11239,11315,11452,11180,11396,11506,11210,11232,11450,11326,11132,11585,11158,11388,11363,11179,11439,11379,11388,11327,11353,11296,11317,11354,11311,11392,11397,11345,10163,10773,10806,11083,11442,11360,11425,11630,11283,11111,11361,11093,11062,11142,11087,11242,11290,11012,11205,11215,11002,11103,11015,11068,11239,11104,11096,11320,11234,10947,10938,11283,10988,11049,11183,11365,11139,11214,11141,11193,11054,11053,11123,11156,10935,11328,11100,10993,11148,11179,11296,11084,11096,11331,11087,11160,11093,11045,11098,11261,11257,10982,11315,11148,11104,11261,11411,11067,11136,11361,11167,11108,11260,10971,11129,11137,11177,11095,11127,11104,11159,11220,11336,10924,11147,11295,10943,11284,11179,11117,11195,11101,11089,11206,11053,11208,11130,11009,11428,11066,11146,11225,11016,11143,11321,10935,11252,11228,11073,11070,10943,10989,11250,11068,11356,11167,11091,11218,11239,11034,11111,11031,11174,11125,11132,11056,11112,11135,11233,11078,11229,11131,11092,11289,11282,11071,11287,11222,11188,11070,11168,11041,11090,11309,11282,11007,11254,11057,11042,11346,11138,11070,11314,11065,10997,11175,11234,11095,11237,11085,11127,11209,11237,11133,11054,11208,10977,11150,11190,10957,11380,11102,11159,11042,11004,11243,11218,10943,11207,11310,11179,11133,11026,11304,11061,11304,11161,11277,11166,11263,11197,11099,11181,11167,11309,11035,11160,11285,11244,11038,11286,11181,11173,11068,11032,11228,10953,11209,11186,11068,11294,10956,11164,11272,11061,11156,11138,11205,11028,11093,10988,11090,11228,11131,11149,10926,11217,11272,11101,10981,11212,10800,11301,11427,10924,11295,11263,10935,11294,11169,10925,11126,11337,10972,11122,11291,11039,11080,11355,10908,11022,11328,0,0,15227,14927,15128,15156,15092,15160,15059,14935,15139,15074,15019,15153,14985,14967,14929,15066,15096,15085,15215,15216,15142,15267,15068,14991,15157,15050,15042,15154,15199,15217,15320,14979,15114,15087,14943,15039,15080,15105,15104,15087,14815,15218,15194,15044,14930,15313,15012,15009,15101,14977,15244,15113,15019,15131,15232,15097,15145,15116,15043,15037,15004,15058,15221,14986,15026,15198,15122,14973,14961,15039,15153,15112,15104,15021,15171,15029,14981,15206,15213,14987,15377,15030,14928,14944,15138,15015,15045,14987,15028,15095,15157,15033,14991,15192,15155,15128,15195,14946,14999,15129,15044,15237,15205,15027,15248,15185,14915,15164,14881,14930,14919,14932,15034,15203,15228,15139,15144,15139,15247,15129,14982,14850,15078,15100,15098,15069,15206,15126,14970,15211,15197,15009,15020,15204,15114,15057,15121,15087,15038,15219,15146,14941,15144,15026,14810,15222,14895,15034,15198,14981,15186,14977,15033,14946,15165,15125,15121,15072,15129,15086,15082,15318,15095,15051,15063,14992,15132,15105,15132,15103,15103,15195,15063,15298,15029,15029,15112,15214,14760,15127,15255,15146,15273,15213,15124,15035,15000,15159,15147,14983,14959,15041,15028,15145,15080,15136,15075,15017,15215,15194,14996,15101,15236,15066,15078,15106,15062,15064,15115,15021,15122,15081,15281,15122,15047,15102,15211,14860,15169,15285,15169,15049,15069,15032,15053,14990,15052,14893,15033,15111,14991,15159,15118,15053,14934,15355,15058,14861,15164,15075,15065,14950,14804,15205,15071,15091,15063,15287,15135,15160,15236,15128,14904,15184,15181,15095,15246,15148,14983,15114,15131,15134,15092,15295,15135,14811,15197,15226,15066,15053,15130,15035,15097,15119,15233,15003,14914,15020,15091,14972,15160,14812,15200,15000,15013,15138,15038,15048,15222,15116,15138,15005,15125,15265,15272,14974,15049,15114,15059,15167,15072,14929,15156,15301,15227,15085,15014,15096,15206,14952,15239,15268,15011,15008,15156,14965,15165,15024,15208,15106,15229,15027,15192,15064,14934,15272,15147,15001,15246,15225,15087,15133,15150,15115,15335,15137,15189,15063,15386,15026,14974,15086,14896,15129,15126,14926,14953,15356,15191,14939,15174,14907,15007,15022,14874,15084,15008,14848,14978,14982,0,0,13256,13271,13138,13328,13286,13124,13421,13259,13241,13232,13131,13102,13154,13132,13304,13000,13427,13326,13191,13448,13208,13197,13420,13352,13352,13297,13360,13398,13363,13107,13164,13361,13097,13206,13302,13361,13363,13201,13040,13178,13379,13077,13179,13240,13515,13134,13171,13194,13239,13364,13309,13358,12976,13525,13153,13129,13281,13347,13026,13326,13306,13407,13210,13325,13161,13133,13299,13221,13474,13327,13254,13156,13144,13116,13320,13480,13147,13172,13029,13290,13038,13270,13170,13312,13151,13134,13348,13419,13288,13386,13159,13075,13460,13210,13280,13238,13258,13259,13290,13382,13175,13187,13286,13290,13137,13159,13204,13112,13693,13470,13691,13296,13041,13167,12873,12904,13225,13233,12962,13443,13201,13465,13485,13238,13082,13349,13181,13203,13398,13151,13394,13299,13387,13223,13222,13145,13226,13441,13337,13074,13321,13189,13231,13328,13249,13271,13473,13202,13061,13290,13017,13296,13276,13123,13261,13376,13279,13274,13124,13188,13257,12972,13264,13292,13376,13249,13333,13283,13149,13229,13196,13214,13311,13021,13064,13255,13300,13125,13528,13371,13124,13317,13141,13210,13262,13250,13401,13219,13253,13257,13271,13427,13323,13126,13386,13149,13270,13357,13198,13279,13349,13173,13307,13336,13386,13410,13089,13315,13229,13306,13272,13389,13054,13433,13179,13139,13289,13433,13220,13336,13238,13310,13145,13271,13414,13275,13143,13288,13304,13319,13066,13195,13312,13130,13321,13116,13102,13455,13092,13102,13271,13319,13206,13284,13214,13300,13184,13190,13370,13271,13085,13327,13329,13275,13015,13224,13297,13213,13240,13147,13371,13162,13341,13107,13221,13498,13164,13234,13371,13151,13113,13258,13289,13263,13124,13216,13349,13326,13129,13230,13334,13425,13361,13197,13133,13411,13264,13170,13166,13224,13263,13296,13418,13074,13326,13232,13283,13341,13302,13174,13317,13317,13292,13256,13205,13284,13257,13296,13131,13283,13222,13229,13329,13253,13239,13248,13310,13256,13076,13217,13080,13319,13158,13202,13266,13246,13317,13294,13197,13193,13233,13323,13235,13274,12999,13190,13211,13460,12936,13316,13356,13129,13283,13219,13283,13416,13125,13222,13338,13328,13097,13350,13281,13281,13286,13175,13123,13328,13378,13233,0,0,8667,8755,8373,8477,8618,8430,8483,8589,8336,8650,8517,8701,8415,8723,8776,8205,8575,8437,8333,8652,8538,8318,8539,8545,8338,8635,8342,8506,8353,8445,8560,8565,8548,8503,8638,8390,8550,8610,8682,8397,8695,8387,8609,8468,8611,8423,8674,8590,8293,8579,8501,8460,8478,8497,8607,8511,8486,8402,8494,8650,8604,8447,8458,8601,8506,8440,8528,8374,8516,8521,8482,8628,8677,8602,8506,8647,8481,8352,8270,8775,8490,8710,8505,8748,8562,8346,8604,8603,8311,8476,8738,8361,8544,8392,8454,8640,8425,8620,8600,8424,8448,8528,8505,8519,8444,8534,8706,8594,9649,9128,8869,8753,8403,8416,8547,8264,8553,8843,8622,8887,8885,8767,8637,8691,8592,8761,8730,8656,8972,8633,8720,8706,8491,8767,8916,8607,8663,8977,8765,8567,8796,8850,8542,8579,8801,8451,8814,8728,8847,8877,8597,8818,8910,8729,8742,8794,8580,8615,8654,8799,8795,8691,8867,8744,8794,8920,8679,8621,8653,8918,8594,8724,8772,8703,8644,8746,8713,8677,8822,8689,8693,8917,8752,8649,8719,8878,8607,8762,8796,8774,8580,8905,8637,8554,8991,8583,8738,8728,8553,8822,8879,8646,8751,8644,8750,8800,8602,8841,8649,8616,8945,8595,8481,8873,8776,8762,8707,8881,8757,8727,8706,8669,8627,8867,8744,8586,8708,8960,8750,8701,8808,8803,8730,8789,8760,8658,8789,8835,8655,8727,8838,8548,8903,8758,8667,8710,8797,8600,8650,8858,8849,8498,8887,8759,8657,8918,8771,8593,8843,8905,8491,8879,8828,8560,8812,8960,8577,8726,8666,8768,8700,8714,8952,8595,8857,8754,8703,8940,8492,8814,8606,8917,8739,8645,8622,8934,8731,8661,8741,8872,8836,8596,8767,8719,8740,8747,8743,8803,8753,8847,8749,8838,8600,8792,8740,8706,8737,8862,8557,8791,8712,8905,8864,8738,8787,8801,8677,8717,8614,8970,8607,8720,8762,8818,8763,8677,8738,8729,8818,8703,8751,8822,8583,8801,8703,8611,8752,8771,8662,9078,8607,8541,9047,8507,8622,8929,8594,8600,8723,8848,8649,8815,8655,8629,8880,8728,8749,8946,8763,8715,0,0,2859,2866,2768,2811,2879,2851,2762,2880,2812,2849,2836,2872,2834,2896,2926,2675,2902,2812,2717,2887,2726,2731,2811,2902,2773,2923,2831,2788,2784,2804,2848,2865,2826,2827,2913,2721,2874,2687,2828,2810,2864,2765,2867,2800,2894,2859,2891,2903,2734,2823,2921,2838,2725,2773,2799,2797,2907,2841,2831,2928,2851,2768,2784,2774,2721,2810,2837,2811,2819,2850,2776,2900,2841,2821,2851,2864,2841,2840,2718,2956,2813,2767,2764,2951,2818,2864,2954,2730,2819,2753,2800,2733,2956,2779,2862,2882,2721,2749,2881,2830,2801,2764,2742,2808,2841,2766,2915,2789,3404,3204,3079,2918,2811,2749,2820,2613,2756,2884,2791,2892,2886,2937,2875,2891,2974,3045,2794,2934,2970,2795,2902,2964,2837,2895,2916,2874,2781,3046,3012,2808,2978,2952,2890,2901,3014,2866,2823,2958,2896,2923,3015,2980,2990,2846,2878,2951,2909,2884,2835,2892,2952,2825,2956,2797,2834,2939,2955,2843,2971,3010,2759,2883,2938,2932,2867,2985,2891,2781,2928,2957,2799,2919,2876,2839,2812,3028,2833,2886,2952,2838,2881,3012,2891,2765,3098,2871,2906,2904,2832,2914,2901,2859,2917,2879,2913,2862,2805,2919,2827,2947,2996,2887,2866,2973,2877,2902,2801,2915,3016,2864,2744,2997,2880,2924,2926,2915,2891,2950,2964,2917,2860,2884,2973,2916,2900,2776,2909,3025,2805,2929,2916,2970,3074,2848,2871,2913,2876,2901,2889,2865,2914,2733,2859,2988,2816,2877,2865,2811,2934,2965,2863,2923,3031,2814,2760,2932,2848,2888,2861,2915,2850,2980,2882,2829,2907,2892,2851,3028,2782,2963,2902,2931,2990,2860,2883,2994,2924,2852,2836,2900,2897,2829,2895,2899,2845,2880,2866,2873,2954,2891,2823,2832,2792,2958,2878,2842,2887,2981,2871,2886,2758,2859,2924,2945,2844,2900,2943,2972,2766,3018,2857,2784,2916,2869,2882,2818,2830,2965,2945,2921,2910,2848,2766,2926,2835,2914,2857,2937,2809,3054,2807,2839,3092,2833,2913,3096,2884,2851,2937,2937,2814,2984,2890,2863,3028,2874,2868,3064,2976,2859,0,0,557,581,530,583,542,505,550,577,542,583,606,539,531,625,593,521,570,544,540,584,543,534,564,607,509,597,532,527,561,557,531,550,555,564,588,533,561,521,571,532,579,528,584,573,558,539,594,579,514,569,531,554,550,544,560,543,555,563,561,571,608,578,529,588,542,544,566,541,510,554,546,602,561,541,547,568,560,536,558,598,529,537,540,587,590,533,582,526,561,600,594,531,582,554,542,558,530,570,525,525,541,560,539,583,596,567,584,558,736,647,628,584,578,549,514,545,533,616,549,613,615,588,548,582,521,599,552,548,575,591,585,637,565,581,591,570,563,611,572,550,626,562,586,575,608,561,536,601,593,614,590,604,617,582,551,582,561,578,585,592,631,563,611,545,615,600,562,597,555,642,563,542,548,587,523,612,610,582,626,555,556,633,586,567,571,590,593,563,564,575,579,602,565,556,597,580,570,582,590,573,588,583,591,565,590,582,538,619,578,575,576,561,552,594,565,581,569,578,604,560,559,594,563,587,593,586,564,600,600,599,629,542,562,628,573,538,610,599,531,617,580,568,578,579,539,598,610,543,527,623,612,555,568,584,563,554,585,534,608,594,518,553,602,559,581,598,566,629,613,562,539,584,625,566,588,555,598,594,535,623,569,597,560,594,595,610,587,562,576,614,574,573,568,530,554,571,604,542,563,592,568,574,586,592,540,538,577,592,566,575,568,566,595,550,599,592,548,608,578,582,585,596,591,539,611,549,601,560,633,615,564,570,594,573,542,590,555,607,535,639,539,563,599,590,551,622,575,537,573,548,528,607,618,572,641,618,599,596,571,577,0,0,87,78,66,91,81,95,92,87,82,100,94,83,81,88,86,83,97,76,68,86,75,64,83,77,87,67,59,79,84,71,69,95,84,61,85,88,76,84,73,73,83,75,97,71,79,77,95,81,88,83,82,90,99,76,70,88,90,83,77,83,95,79,84,84,80,69,92,77,85,86,85,74,87,83,74,90,85,77,84,91,86,78,82,85,71,95,90,85,84,74,93,85,78,82,96,78,75,79,82,86,88,74,69,70,83,72,72,82,118,93,110,89,77,72,75,74,75,77,75,87,81,84,88,69,88,87,69,84,104,87,80,74,82,78,93,80,81,103,97,73,84,106,71,68,114,83,89,91,93,89,81,90,84,96,75,93,82,83,87,79,76,76,83,87,85,101,77,75,88,83,75,80,93,86,84,86,80,75,84,80,76,80,78,79,79,92,70,85,94,76,76,83,93,76,87,79,79,76,77,80,91,76,81,83,91,81,77,87,81,67,87,93,77,91,68,87,91,98,91,82,71,69,76,96,86,83,88,80,90,88,94,90,80,88,91,70,91,103,95,98,93,83,100,81,91,90,71,86,79,84,90,76,78,92,89,74,87,88,84,90,88,92,67,97,81,79,76,73,75,96,84,82,80,78,96,81,94,89,77,96,73,86,88,86,68,88,78,74,77,95,75,66,90,89,74,86,73,88,95,73,79,95,84,86,81,88,78,92,88,78,78,76,79,78,86,87,85,89,85,95,87,79,87,92,81,82,92,83,79,81,78,87,72,83,94,111,87,77,76,102,87,83,94,77,88,103,85,82,89,93,78,98,87,84,93,79,83,107,92,100,0,0,9,10,8,5,11,7,13,10,4,7,11,12,11,8,9,7,10,7,4,9,9,8,9,8,8,10,9,13,7,10,11,9,11,12,10,12,8,8,12,8,10,8,6,9,10,10,10,8,7,9,9,8,9,4,10,9,11,11,11,8,8,8,8,7,6,7,6,10,11,10,7,12,8,7,11,6,8,6,7,12,10,15,9,6,14,8,12,10,7,9,9,9,8,6,9,6,8,11,6,9,14,8,8,9,11,10,10,9,17,12,5,8,7,8,11,7,11,12,8,9,11,9,5,15,20,10,13,9,8,9,9,10,7,12,7,11,12,8,14,10,10,11,9,7,8,11,10,13,14,14,8,7,10,8,11,17,11,14,5,9,11,10,13,9,9,7,10,3,10,10,6,10,9,8,10,15,9,3,14,6,5,10,10,11,9,7,13,9,9,8,11,12,5,12,11,8,13,9,8,12,8,12,11,9,9,11,11,13,9,5,14,10,11,9,12,9,8,9,10,10,8,9,11,13,9,10,10,11,10,7,11,13,13,12,10,10,9,10,10,14,11,10,10,13,8,9,6,11,9,10,16,9,8,6,8,10,12,13,6,11,7,7,13,9,10,11,9,10,12,8,9,16,10,10,11,11,13,13,9,9,11,12,11,9,14,9,7,8,10,10,11,11,10,5,8,9,8,10,6,6,13,8,11,15,10,11,11,8,10,11,8,8,9,16,10,11,15,8,7,11,11,8,9,8,12,10,8,9,12,9,11,8,13,10,6,8,11,10,13,14,10,8,13,11,11,12,13,11,9,6,8,7,12,13,11,14,6,10,13,10,0,0,1,1,2,3,0,1,1,2,2,2,1,1,0,3,3,3,1,2,1,0,2,0,0,2,1,2,0,1,1,1,1,2,0,2,1,0,2,2,1,0,1,1,3,1,0,1,3,2,1,0,2,2,1,3,1,0,2,1,1,1,0,2,2,2,2,2,1,2,0,1,0,1,2,2,1,1,2,1,2,2,0,0,2,2,1,2,1,0,2,1,2,0,1,2,1,2,2,0,1,2,0,2,0,0,2,0,1,2,3,2,3,2,2,0,5,1,1,1,2,1,1,1,2,3,0,1,0,2,0,0,2,2,2,0,1,2,0,1,3,1,0,3,2,0,2,1,2,2,2,1,2,1,2,2,2,0,4,1,2,0,1,1,1,2,0,5,0,2,1,1,1,3,0,2,3,0,1,3,1,0,3,3,1,1,2,2,2,1,0,1,2,1,3,0,2,1,1,2,0,0,2,2,1,1,1,0,0,1,1,1,1,0,1,1,2,0,2,0,1,1,2,2,0,1,1,2,0,2,2,2,4,0,1,0,1,1,1,2,2,2,1,0,2,1,3,1,2,0,1,1,1,2,4,2,0,0,1,0,2,1,2,5,3,2,1,2,1,2,1,1,2,3,2,0,2,1,0,0,3,2,1,0,0,1,1,2,3,0,0,0,1,1,1,5,0,0,2,1,0,1,1,2,1,0,0,2,1,2,1,1,1,1,1,0,1,2,0,2,2,2,0,3,1,1,0,0,3,4,3,1,3,1,1,0,1,0,0,3,0,2,2,0,3,1,1,0,4,1,0,4,3,1,2,0,3,1,2,1,1,1,0,0,13,11,12,16,12,15,14,13,15,14,13,13,17,15,14,12,14,15,12,13,15,16,12,13,10,15,11,15,16,10,17,14,14,16,13,14,14,15,12,17,15,12,18,13,12,13,11,12,14,17,15,13,12,10,16,15,13,13,11,12,15,13],\"v12\":14,\"n12\":6,\"v13\":[12,16,12,14,13,13,14,14,13,13,16,12,15,12,14,14,16,14,14,11,12,16,16,16,14,12,13,14,17,14,17,13,11,12,16,13,12,13,14,18,12,13,14,13,15,12,13,14,11,13,11,15,12,13,13,13,11,16,12,13,18,15,13,13,14,12,12,11,14,12,13,14,14,15,14,15,15,12,15,12,15,16,16,12,14,13,10,12,17,17,12,12,15,12,9,16,17,12,15,17,14,13,14,10,14,13,15,13,16,13,14,14,15,15,13,14,15,11,13,16,14,15,12,13,13,14,18,12,14,13,17,8,14,14,15,12,12,16,12,13,13,15,15,13,15,15,15,15,13,15,13,14,13,14,13,12,14,16,15,13,11,14,16,13,14,13,12,11,11,15,16,14,11,16,12,10,8,18,13,14,14,14,12,14,19,15,14,13,17,10,11,14,15,14,14,12,13,12,16,13,14,16,12,15,12,12,14,17,12,13,11,13,13,16,13,15,16,12,9,14,16,13,12,16,15,14,15,15,14,15,15,12,12,15,14,13,12,15,14,11,12,13,17,15,15,14,15,13,12,15,17,11,13,14,13,14,15,14,17,15,12,13,13,12,14,14,15,15,15,11,13,13,16,15,17,16,12,14,15,10,14,15,11,14,14,15,15,15,12,15,10,13,0,0,37,39,38,34,38,35,36,37,35,36,37,37,33,35,36,38,36,35,38,37,35,34,38,37,40,35,39,35,34,40,33,36,36,34,37,36,36,35,38,33,35,38,32,37,38,37,39,38,36,33,35,37,38,40,34,35,37,37,39,38,35,37],\"v14\":36,\"n14\":6,\"v15\":[38,34,38,36,37,37,36,36,37,37,34,38,35,38,36,35,34,36,36,39,38,34,34,34,35,38,37,36,33,36,33,36,39,38,34,37,38,37,36,32,38,37,36,37,35,38,37,36,39,37,39,35,37,37,37,37,39,34,38,36,32,35,36,37,36,38,38,38,35,38,37,36,36,34,36,35,34,38,35,38,35,34,34,38,36,37,40,38,33,33,38,38,35,38,41,34,33,38,35,33,36,36,36,40,36,37,35,37,34,37,35,36,36,35,37,35,35,39,37,34,36,35,38,37,37,36,32,38,35,37,33,42,36,36,35,38,38,34,38,37,37,35,35,37,35,35,35,35,37,35,37,36,37,36,37,38,36,34,35,37,39,35,34,37,36,37,38,39,39,35,34,36,39,34,38,40,42,32,37,36,36,36,38,36,31,35,36,36,33,40,39,35,35,36,36,38,37,38,34,37,36,34,38,35,38,38,36,33,38,37,39,36,37,34,37,35,34,38,41,36,34,37,37,34,35,36,35,34,36,35,35,38,38,35,36,37,38,35,36,39,38,37,33,35,35,36,34,37,37,35,33,39,37,36,37,36,35,36,33,35,38,37,37,38,36,36,35,34,35,39,37,37,34,35,33,34,38,36,35,40,36,35,39,36,36,35,35,34,38,35,40,37,0,0,29,32,28,33,31,32,32,29,34,31,31,28,32,32,32,31,32,31,30,31,28,29,29,30,30,30,30,33,29,30,32,34,30,33,29,29,30,29,31,31,26,30,31,28,32,32,33,32,26,27,29,32,31,25,32,28,30,32,31,30,32,30,31,30,27,33,30,31,30,30,31,29,31,29,32,26,30,29,28,29,32,29,25,30,29,27,32,35,29,25,32,35,30,30,33,30,31,30,33,31,30,36,28,31,28,29,31,31,28,33,33,31,30,34,27,28,29,31,28,31,35,34,29,30,29,29,31,32,27,28,34,29,27,34,31,28,29,33,30,30,28,30,30,34,30,30,32,31,27,31,30,33,29,30,35,33,29,32,27,32,27,29,30,30,31,33,34,33,29,34,31,30,32,28,30,29,32,30,26,28,31,29,29,34,29,30,28,26,28,32,30,29,34,27,28,32,35,27,31,29,34,28,30,28,29,28,28,33,32,32,32,34,31,29,32,30,29,33,32,30,32,30,28,31,30,30,30,31,30,30,31,32,32,35,33,31,31,30,32,29,32,33,29,27,33,27,31,32,27,28,31,35,33,30,28,31,33,30,30,31,35,29,27,35,34,34,31,28,27,33,28,31,31,31,30,33,32,30,29,35,30,33,31,32,30,28,30,28,30,29,26,30,33,28,30,32,33,31,28,29,30,33,26,32,30,28,28,35,26,28,31,33,35,30,29,31,34,30,31,27,31,29,29,31,29,31,29,31,26,29,33,37,27,31,27,32,29,29,31,29,29,29,28,30,31,31,27,28,27,33,32,32,28,29,32,34,32,28,30,31,0,0,53,50,52,46,52,48,45,51,45,49,51,53,50,48,49,51,46,50,51,48,53,47,53,51,52,51,48,50,53,47,49,48,51,49,53,55,50,53,47,46,54,49,51,50,47,47,49,48,51,54,49,50,51,55,47,53,52,49,47,52,48,49,54,49,54,48,52,47,50,54,51,52,51,51,46,55,52,51,53,50,47,52,56,50,51,51,47,47,51,54,47,48,53,50,47,53,52,50,45,50,48,42,52,51,53,52,50,49,54,46,45,50,51,50,56,51,49,49,54,48,44,44,51,51,51,51,50,51,52,51,48,55,53,48,48,52,54,48,49,47,51,53,50,46,52,49,48,49,53,48,52,50,51,50,44,49,54,46,51,50,55,47,48,51,47,47,47,44,52,49,48,48,47,52,49,50,49,51,59,51,50,52,51,48,52,49,52,54,52,49,48,51,45,57,53,45,47,54,48,50,48,53,50,50,53,48,52,45,48,47,48,45,48,52,48,50,49,45,48,48,48,51,51,45,50,47,51,52,51,49,50,47,47,44,46,47,50,47,47,51,50,48,50,53,49,54,50,46,53,52,52,45,43,49,54,50,45,49,47,52,45,51,54,49,43,45,50,53,55,48,52,42,51,50,50,46,48,49,48,45,53,47,51,47,45,57,51,48,50,53,55,49,49,50,51,46,47,51,51,51,53,52,54,47,52,54,48,44,55,53,50,48,48,51,52,49,45,50,51,55,48,49,49,47,49,48,54,52,56,51,46,42,52,48,53,50,52,52,48,50,51,53,51,49,49,52,54,51,53,43,46,48,51,50,50,46,50,50,53,49,0,0,6,5,10,10,5,9,11,10,9,10,5,6,7,8,4,6,9,9,7,9,8,11,8,7,5,7,8,6,9,12,8,6,7,5,4,9,6,7,13,13,7,9,8,10,7,11,8,9,11,8,14,8,6,6,10,8,8,9,8,6,9,11,3,9,7,9,7,11,11,5,5,6,7,11,11,6,5,8,7,9,10,7,5,9,10,11,11,7,6,9,8,9,8,10,6,5,6,8,8,9,12,11,9,5,8,6,6,11,6,11,11,6,7,3,6,7,11,8,7,9,11,12,8,6,9,8,9,6,7,12,8,4,10,5,8,10,8,7,9,10,11,9,9,9,7,13,9,10,10,8,5,4,6,9,8,5,9,12,12,6,8,12,11,8,12,7,7,14,8,8,11,11,10,10,9,9,7,6,5,11,7,6,11,9,9,6,7,8,8,8,10,9,10,4,7,12,6,7,10,11,5,7,8,10,8,12,9,10,9,10,8,9,10,5,9,10,11,8,11,12,6,6,8,13,11,10,9,6,7,8,7,12,10,10,6,9,8,12,10,10,6,7,6,10,6,7,9,12,7,7,8,10,12,9,6,8,10,8,10,8,9,9,8,6,11,8,8,9,6,8,7,15,7,10,7,10,8,10,14,6,5,10,5,8,14,6,6,13,8,10,8,9,8,10,6,10,9,6,10,8,5,3,11,9,7,8,14,6,7,7,8,8,3,5,9,8,9,8,7,5,12,9,10,13,10,8,6,5,5,9,11,10,9,7,11,9,8,6,7,10,8,5,10,8,7,6,7,11,10,12,11,10,10,9,6,11,5,11,6,8,0,0,18,19,16,17,18,17,18,16,18,16,19,19,17,18,21,18,19,16,18,18,17,19,15,18,18,17,20,17,15,17,17,18,18,19,20,13,20,17,15,16,19,17,16,18,20,16,16,17,18,17,14,16,18,20,17,17,16,16,20,18,17,16,18,18,18,15,17,17,15,17,19,19,17,15,17,19,19,18,18,18,17,18,20,18,16,17,15,17,20,18,19,14,16,16,20,18,17,18,20,17,16,17,17,19,17,19,19,15,18,16,17,19,18,19,17,20,17,18,16,18,17,16,18,19,17,18,16,18,20,15,17,18,16,19,19,17,16,18,18,19,16,15,17,17,18,14,17,14,16,19,19,19,20,17,19,19,14,15,16,18,16,18,17,16,16,19,17,15,17,16,16,17,17,16,18,18,18,19,17,16,18,19,15,16,16,20,18,18,18,17,16,17,17,18,18,17,19,18,17,16,19,18,18,18,16,18,17,18,17,16,18,18,17,20,17,16,17,20,15,16,20,19,19,17,15,19,16,17,18,20,17,15,17,16,21,19,17,17,16,16,18,18,21,16,18,17,16,16,19,19,15,16,18,18,18,18,18,19,19,16,17,17,17,16,18,19,17,16,18,16,19,18,17,14,18,17,17,16,14,21,18,16,19,19,17,15,19,17,18,14,18,17,15,18,19,19,17,18,16,18,18,18,15,18,16,16,16,20,18,18,17,17,20,20,17,18,19,18,17,19,15,19,18,15,18,19,17,18,19,17,15,17,18,20,15,16,17,19,20,17,16,19,17,19,19,17,18,15,16,18,17,16,17,18,18,15,19,17,17,18,0,0],\"v16\":15,\"n16\":22,\"v17\":[16,15,16,16],\"v18\":15,\"n18\":15,\"v19\":16,\"v20\":15,\"n20\":23,\"v21\":16,\"v22\":15,\"n22\":20,\"v23\":16,\"v24\":15,\"n24\":31,\"v25\":16,\"v26\":15,\"n26\":28,\"v27\":17,\"v28\":15,\"n28\":9,\"v29\":[16,15,15,15,15,15,16,15,15,16],\"v30\":15,\"n30\":18,\"v31\":[16,16,15,15,15,17],\"v32\":15,\"n32\":18,\"v33\":16,\"v34\":15,\"n34\":20,\"v35\":[16,15,15,16,15,15,15,15,16],\"v36\":15,\"n36\":6,\"v37\":16,\"v38\":15,\"n38\":23,\"v39\":[16,15,15,15,16,16,15,16,16,16],\"v40\":15,\"n40\":12,\"v41\":[16,16,15,15,15,15,15,16,15,15,15,15,15,16,15,15,16],\"v42\":15,\"n42\":22,\"v43\":16,\"v44\":15,\"n44\":9,\"v45\":17,\"v46\":15,\"n46\":6,\"v47\":16,\"v48\":15,\"n48\":7,\"v49\":[16,15,15,15,15],\"p50\":15567,\"v50\":8,\"n50\":360,\"p51\":18825,\"v51\":1,\"p52\":27151,\"v52\":12,\"n52\":360,\"p53\":29323,\"v53\":7,\"n53\":360,\"p54\":32581,\"v54\":1,\"p55\":35115,\"v55\":21,\"n55\":360,\"p56\":40907,\"v56\":10,\"n56\":360,\"p57\":46699,\"v57\":35,\"n57\":360,\"p58\":47061,\"v58\":10,\"n58\":360,\"p59\":47423,\"v59\":9,\"n59\":360,\"p60\":47785,\"v60\":7,\"n60\":360,\"p61\":48147,\"v61\":24,\"n61\":360,\"p62\":49595,\"v62\":21,\"n62\":360,\"p63\":51043,\"v63\":7,\"n63\":360,\"p64\":55387,\"v64\":10,\"n64\":360,\"p65\":55749,\"v65\":1,\"p66\":57559,\"v66\":13,\"n66\":360,\"p67\":57921,\"v67\":7,\"n67\":360,\"p68\":58283,\"v68\":8,\"n68\":360,\"p69\":59007,\"v69\":13,\"n69\":360,\"p70\":60455,\"v70\":1,\"p71\":61179,\"v71\":10,\"n71\":360,\"p72\":61903,\"v72\":7,\"n72\":360,\"p73\":63713,\"v73\":10,\"n73\":360,\"p74\":64799,\"v74\":13,\"n74\":360,\"p75\":66247,\"v75\":1,\"p76\":69867,\"v76\":8,\"n76\":360,\"p77\":70229,\"v77\":12,\"n77\":360,\"p78\":70591,\"v78\":31,\"n78\":360,\"p79\":71677,\"v79\":8,\"n79\":360,\"p80\":72401,\"v80\":13,\"n80\":360,\"p81\":72763,\"v81\":1,\"p82\":73487,\"v82\":8,\"n82\":360,\"p83\":74573,\"v83\":8,\"n83\":360,\"p84\":75297,\"v84\":1,\"p85\":76021,\"v85\":1,\"p86\":76383,\"v86\":1,\"p87\":76745,\"v87\":10,\"n87\":360,\"p88\":78917,\"v88\":9,\"n88\":360,\"p89\":79279,\"v89\":5,\"n89\":360,\"p90\":80003,\"v90\":1,\"p91\":80365,\"v91\":1,\"p92\":80727,\"v92\":7,\"n92\":360,\"p93\":81089,\"v93\":11,\"n93\":360,\"p94\":81451,\"v94\":6,\"n94\":360,\"p95\":82537,\"v95\":8,\"n95\":360,\"p96\":82899,\"v96\":1,\"p97\":83985,\"v97\":10,\"n97\":360,\"p98\":84347,\"v98\":6,\"n98\":360,\"p99\":85071,\"v99\":8,\"v100\":7,\"n100\":359,\"p101\":86519,\"v101\":13,\"n101\":360,\"p102\":87967,\"v102\":12,\"v103\":11,\"n103\":359,\"p104\":90501,\"v104\":9,\"n104\":360,\"p105\":90863,\"v105\":9,\"n105\":360,\"p106\":91225,\"v106\":8,\"n106\":360,\"p107\":91949,\"v107\":9,\"n107\":360,\"p108\":92311,\"v108\":1,\"p109\":92673,\"v109\":9,\"v110\":8,\"n110\":359}},{\"_typename\":\"TStyle\",\"fUniqueID\":0,\"fBits\":0,\"fName\":\"sPHENIX\",\"fTitle\":\"sPHENIX style\",\"fLineColor\":1,\"fLineStyle\":1,\"fLineWidth\":1,\"fFillColor\":19,\"fFillStyle\":1001,\"fMarkerColor\":1,\"fMarkerStyle\":20,\"fMarkerSize\":1.2,\"fTextAngle\":0,\"fTextSize\":0.05,\"fTextAlign\":11,\"fTextColor\":1,\"fTextFont\":42,\"fXaxis\":{\"_typename\":\"TAttAxis\",\"fNdivisions\":510,\"fAxisColor\":1,\"fLabelColor\":1,\"fLabelFont\":42,\"fLabelOffset\":0.005,\"fLabelSize\":0.05,\"fTickLength\":0.03,\"fTitleOffset\":1.4,\"fTitleSize\":0.05,\"fTitleColor\":1,\"fTitleFont\":42},\"fYaxis\":{\"_typename\":\"TAttAxis\",\"fNdivisions\":510,\"fAxisColor\":1,\"fLabelColor\":1,\"fLabelFont\":42,\"fLabelOffset\":0.005,\"fLabelSize\":0.05,\"fTickLength\":0.03,\"fTitleOffset\":1.4,\"fTitleSize\":0.05,\"fTitleColor\":1,\"fTitleFont\":42},\"fZaxis\":{\"_typename\":\"TAttAxis\",\"fNdivisions\":510,\"fAxisColor\":1,\"fLabelColor\":1,\"fLabelFont\":42,\"fLabelOffset\":0.005,\"fLabelSize\":0.05,\"fTickLength\":0.03,\"fTitleOffset\":1,\"fTitleSize\":0.05,\"fTitleColor\":1,\"fTitleFont\":42},\"fBarWidth\":1,\"fBarOffset\":0,\"fColorModelPS\":0,\"fDrawBorder\":0,\"fOptLogx\":0,\"fOptLogy\":0,\"fOptLogz\":0,\"fOptDate\":0,\"fOptStat\":0,\"fOptTitle\":0,\"fOptFile\":0,\"fOptFit\":0,\"fShowEventStatus\":0,\"fShowEditor\":0,\"fShowToolBar\":0,\"fNumberContours\":80,\"fAttDate\":{\"_typename\":\"TAttText\",\"fTextAngle\":0,\"fTextSize\":0.025,\"fTextAlign\":11,\"fTextColor\":1,\"fTextFont\":62},\"fDateX\":0.01,\"fDateY\":0.01,\"fEndErrorSize\":0,\"fErrorX\":0.5,\"fFuncColor\":1,\"fFuncStyle\":1,\"fFuncWidth\":3,\"fGridColor\":0,\"fGridStyle\":3,\"fGridWidth\":1,\"fLegendBorderSize\":0,\"fLegendFillColor\":0,\"fLegendFont\":42,\"fLegendTextSize\":0.05,\"fHatchesLineWidth\":1,\"fHatchesSpacing\":1,\"fFrameFillColor\":0,\"fFrameLineColor\":1,\"fFrameFillStyle\":1001,\"fFrameLineStyle\":1,\"fFrameLineWidth\":1,\"fFrameBorderSize\":1,\"fFrameBorderMode\":0,\"fHistFillColor\":0,\"fHistLineColor\":1,\"fHistFillStyle\":1001,\"fHistLineStyle\":1,\"fHistLineWidth\":2,\"fHistMinimumZero\":false,\"fHistTopMargin\":0.05,\"fCanvasPreferGL\":false,\"fCanvasColor\":0,\"fCanvasBorderSize\":2,\"fCanvasBorderMode\":0,\"fCanvasDefH\":500,\"fCanvasDefW\":700,\"fCanvasDefX\":10,\"fCanvasDefY\":10,\"fPadColor\":0,\"fPadBorderSize\":2,\"fPadBorderMode\":0,\"fPadBottomMargin\":0.16,\"fPadTopMargin\":0.05,\"fPadLeftMargin\":0.16,\"fPadRightMargin\":0.05,\"fPadGridX\":false,\"fPadGridY\":false,\"fPadTickX\":1,\"fPadTickY\":1,\"fPaperSizeX\":20,\"fPaperSizeY\":26,\"fScreenFactor\":1,\"fStatColor\":0,\"fStatTextColor\":1,\"fStatBorderSize\":2,\"fStatFont\":62,\"fStatFontSize\":0,\"fStatStyle\":1001,\"fStatFormat\":\"6.4g\",\"fStatX\":0.98,\"fStatY\":0.995,\"fStatW\":0.2,\"fStatH\":0.16,\"fStripDecimals\":true,\"fTitleAlign\":13,\"fTitleColor\":19,\"fTitleTextColor\":1,\"fTitleBorderSize\":2,\"fTitleFont\":62,\"fTitleFontSize\":0,\"fTitleStyle\":1001,\"fTitleX\":0.01,\"fTitleY\":0.995,\"fTitleW\":0,\"fTitleH\":0,\"fLegoInnerR\":0.5,\"fLineStyles\":[\"\",\"  \",\"  12 12 \",\" 4 8\",\" 12 16 4 16\",\" 20 12 4 12\",\" 20 12 4 12 4 12 4 12\",\" 20 20\",\" 20 12 4 12 4 12\",\" 80 20\",\" 80 40 4 40\",\"  \",\"  \",\"  \",\"  \",\"  \",\"  \",\"  \",\"  \",\"  \",\"  \",\"  \",\"  \",\"  \",\"  \",\"  \",\"  \",\"  \",\"  \",\"  \"],\"fHeaderPS\":\"\",\"fTitlePS\":\"\",\"fFitFormat\":\"5.4g\",\"fPaintTextFormat\":\"g\",\"fLineScalePS\":3,\"fJoinLinePS\":0,\"fCapLinePS\":0,\"fTimeOffset\":788918400,\"fImageScaling\":1}],\"opt\":[\"\",\"colz\",\"\"]},\"fExecs\":null,\"fName\":\"ADCQA\",\"fTitle\":\"ADCQA\",\"fNumPaletteColor\":0,\"fNextPaletteColor\":0,\"fDISPLAY\":\"$DISPLAY\",\"fDoubleBuffer\":0,\"fRetained\":true,\"fXsizeUser\":0,\"fYsizeUser\":0,\"fXsizeReal\":20,\"fYsizeReal\":20,\"fWindowTopX\":0,\"fWindowTopY\":0,\"fWindowWidth\":0,\"fWindowHeight\":0,\"fCw\":496,\"fCh\":472,\"fCatt\":{\"_typename\":\"TAttCanvas\",\"fXBetween\":2,\"fYBetween\":2,\"fTitleFromTop\":1.2,\"fXdate\":0.2,\"fYdate\":0.3,\"fAdate\":1},\"kMoveOpaque\":true,\"kResizeOpaque\":true,\"fHighLightColor\":2,\"fBatch\":true,\"kShowEventStatus\":false,\"kAutoExec\":true,\"kMenuBar\":true});\n",
       "   Core.settings.HandleKeys = false;\n",
       "   Core.draw(\"root_plot_1685386912618\", obj, \"\");\n",
       "}\n",
       "\n",
       "function script_load_root_plot_1685386912618(src, on_error) {\n",
       "    let script = document.createElement('script');\n",
       "    script.src = src;\n",
       "    script.onload = function() { display_root_plot_1685386912618(JSROOT); };\n",
       "    script.onerror = function() { script.remove(); on_error(); };\n",
       "    document.head.appendChild(script);\n",
       "}\n",
       "\n",
       "if (typeof requirejs !== 'undefined') {\n",
       "\n",
       "    // We are in jupyter notebooks, use require.js which should be configured already\n",
       "    requirejs.config({\n",
       "       paths: { 'JSRootCore' : [ 'scripts/JSRoot.core', 'https://root.cern/js/6.1.1/scripts/JSRoot.core.min', 'https://jsroot.gsi.de/6.1.1/scripts/JSRoot.core.min' ] }\n",
       "    })(['JSRootCore'],  function(Core) {\n",
       "       display_root_plot_1685386912618(Core);\n",
       "    });\n",
       "\n",
       "} else if (typeof JSROOT !== 'undefined') {\n",
       "\n",
       "   // JSROOT already loaded, just use it\n",
       "   display_root_plot_1685386912618(JSROOT);\n",
       "\n",
       "} else {\n",
       "\n",
       "    // We are in jupyterlab without require.js, directly loading jsroot\n",
       "    // Jupyterlab might be installed in a different base_url so we need to know it.\n",
       "    try {\n",
       "        var base_url = JSON.parse(document.getElementById('jupyter-config-data').innerHTML).baseUrl;\n",
       "    } catch(_) {\n",
       "        var base_url = '/';\n",
       "    }\n",
       "\n",
       "    // Try loading a local version of requirejs and fallback to cdn if not possible.\n",
       "    script_load_root_plot_1685386912618(base_url + 'static/scripts/JSRoot.core.js', function(){\n",
       "        console.error('Fail to load JSROOT locally, please check your jupyter_notebook_config.py file');\n",
       "        script_load_root_plot_1685386912618('https://root.cern/js/6.1.1/scripts/JSRoot.core.min.js', function(){\n",
       "            document.getElementById(\"root_plot_1685386912618\").innerHTML = \"Failed to load JSROOT\";\n",
       "        });\n",
       "    });\n",
       "}\n",
       "\n",
       "</script>\n"
      ],
      "text/plain": [
       "<IPython.core.display.HTML object>"
      ]
     },
     "metadata": {},
     "output_type": "display_data"
    }
   ],
   "source": [
    "\n",
    "c1 = ROOT.TCanvas( 'ADCQA', 'ADCQA', 500, 500)\n",
    "\n",
    "pad = c1.cd(1)\n",
    "pad.SetLogz()\n",
    "\n",
    "hADC = ROOT.TH2F(f'hADC{sector}', f';Sector{sector}: ADC Time bin [1/20MHz]; ADC [ADU]', 360, 0, 360, 256,0,1024);\n",
    "\n",
    "files['03'].SampleTree.Draw(f\"adcSamples:Iteration$>>hADC{sector}\",\"checksumError==0\",\"colz\");\n",
    "\n",
    "hADC.DrawClone(\"colz\");\n",
    "    \n",
    "c1.Draw(\"\")"
   ]
  },
  {
   "cell_type": "code",
   "execution_count": null,
   "id": "c7ab73c8-233b-42e9-bb1e-dfd28d5f9dd4",
   "metadata": {},
   "outputs": [],
   "source": [
    "\n",
    "files['03'].SampleTree.Scan(\"frame:fee:Channel\",\"checksumError==0 && adcSamples> 200\");\n",
    "\n"
   ]
  },
  {
   "cell_type": "code",
   "execution_count": null,
   "id": "c63da346-b38c-4069-bea7-3e659188154f",
   "metadata": {},
   "outputs": [],
   "source": []
  }
 ],
 "metadata": {
  "kernelspec": {
   "display_name": "Python (sPHENIX)",
   "language": "python",
   "name": "sphenix-env"
  },
  "language_info": {
   "codemirror_mode": {
    "name": "ipython",
    "version": 3
   },
   "file_extension": ".py",
   "mimetype": "text/x-python",
   "name": "python",
   "nbconvert_exporter": "python",
   "pygments_lexer": "ipython3",
   "version": "3.10.8"
  }
 },
 "nbformat": 4,
 "nbformat_minor": 5
}
